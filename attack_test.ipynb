{
 "cells": [
  {
   "cell_type": "code",
   "execution_count": 1,
   "metadata": {},
   "outputs": [],
   "source": [
    "import torch\n",
    "from torch import nn\n",
    "from torch.nn import functional as F\n",
    "\n",
    "import numpy as np\n",
    "import matplotlib.pyplot as plt\n",
    "import pandas as pd\n",
    "\n",
    "import time\n",
    "from tqdm import trange, tqdm\n",
    "\n",
    "from trainer import Trainer, generate_data_iter\n",
    "import utils\n",
    "import attack\n",
    "\n",
    "model_mode, dataset = 'resnet18', 'CIFAR10'\n",
    "fig_num = 400\n",
    "metrics = {}"
   ]
  },
  {
   "cell_type": "code",
   "execution_count": 2,
   "metadata": {},
   "outputs": [
    {
     "name": "stdout",
     "output_type": "stream",
     "text": [
      "Files already downloaded and verified\n",
      "Files already downloaded and verified\n",
      "Top 1 Acc: 90.82%\tTop 5 Acc: 99.61%\n",
      "Files already downloaded and verified\n",
      "Acc on fig_num Images: 94.75%\n"
     ]
    }
   ],
   "source": [
    "trainer = Trainer(\n",
    "    model_mode = model_mode,\n",
    "    dataset = dataset,\n",
    "    bs = 128,\n",
    "    lr = 0.01,\n",
    "    seed = 0,\n",
    "    cuda = 0,\n",
    "    use_lr_sche = True,\n",
    "    use_wandb = False,\n",
    ")\n",
    "trainer.load()\n",
    "top1_acc, top5_acc = trainer.evaluate_model()\n",
    "print(f'Top 1 Acc: {top1_acc * 100:4.2f}%\\tTop 5 Acc: {top5_acc * 100:4.2f}%')\n",
    "\n",
    "test_iter = generate_data_iter('CIFAR10', batch_size = fig_num, mode = 'test')\n",
    "imgs, labels = next(iter(test_iter))\n",
    "raw_preds, raw_probs = trainer.model_predict(imgs)\n",
    "suc_indices = raw_preds == labels\n",
    "print(f'Acc on fig_num Images: {suc_indices.sum() / len(labels) * 100:4.2f}%')\n",
    "suc_imgs, suc_labels, suc_probs = imgs[suc_indices], labels[suc_indices], raw_probs[suc_indices]"
   ]
  },
  {
   "attachments": {},
   "cell_type": "markdown",
   "metadata": {},
   "source": [
    "### L-BFGS"
   ]
  },
  {
   "cell_type": "code",
   "execution_count": 3,
   "metadata": {},
   "outputs": [
    {
     "name": "stderr",
     "output_type": "stream",
     "text": [
      "[378/379]: 100%|██████████| 379/379 [16:50<00:00,  2.67s/it]"
     ]
    },
    {
     "name": "stdout",
     "output_type": "stream",
     "text": [
      "LBFGS:\tSuccess Rate: 55.41%,  Avg Time: 2.525s\n"
     ]
    },
    {
     "name": "stderr",
     "output_type": "stream",
     "text": [
      "\n"
     ]
    }
   ],
   "source": [
    "att_method = attack.LBFGS(trainer.model)\n",
    "att_name = att_method.__class__.__name__\n",
    "attacks = torch.zeros_like(suc_imgs)\n",
    "target_clses = (suc_labels + 1) % 10\n",
    "start = time.time()\n",
    "with trange(len(suc_imgs)) as t:\n",
    "    for i in t:\n",
    "        attacks[i] = att_method(suc_imgs[i], target_clses[i])\n",
    "final = time.time()\n",
    "\n",
    "deltas = attacks - suc_imgs\n",
    "norm = torch.mean(\n",
    "    torch.linalg.norm(deltas.reshape(len(deltas), -1), dim = 1) \\\n",
    "        / torch.linalg.norm(suc_imgs.reshape(len(deltas), -1), dim = 1)\n",
    ")\n",
    "\n",
    "att_preds, att_probs = trainer.model_predict(attacks)\n",
    "success_rate = (att_preds != suc_labels).sum() / len(att_preds)\n",
    "print(f'{att_name}:\\tSuccess Rate: {success_rate * 100:4.2f}%,  Avg Time: {(final - start)/fig_num:.3f}s')\n",
    "metrics[att_name] = {\n",
    "    'success_rate': (success_rate * 100).item(),\n",
    "    'norm': norm.item(),\n",
    "    'time': final - start\n",
    "}"
   ]
  },
  {
   "attachments": {},
   "cell_type": "markdown",
   "metadata": {},
   "source": [
    "### FGSM"
   ]
  },
  {
   "cell_type": "code",
   "execution_count": 4,
   "metadata": {},
   "outputs": [
    {
     "name": "stderr",
     "output_type": "stream",
     "text": [
      "100%|██████████| 379/379 [00:03<00:00, 106.38it/s]\n"
     ]
    },
    {
     "name": "stdout",
     "output_type": "stream",
     "text": [
      "FGSM:\tSuccess Rate: 83.64%,  Norm: 1.958e-01,  Avg Time: 0.009s\n"
     ]
    }
   ],
   "source": [
    "att_method = attack.FGSM(trainer.model)\n",
    "att_name = att_method.__class__.__name__\n",
    "attacks = torch.zeros_like(suc_imgs)\n",
    "start = time.time()\n",
    "with trange(len(suc_imgs)) as t:\n",
    "    for i in t:\n",
    "        attacks[i] = att_method(suc_imgs[i], suc_labels[i])\n",
    "final = time.time()\n",
    "\n",
    "deltas = attacks - suc_imgs\n",
    "norm = torch.mean(\n",
    "    torch.linalg.norm(deltas.reshape(len(deltas), -1), dim = 1) \\\n",
    "        / torch.linalg.norm(suc_imgs.reshape(len(deltas), -1), dim = 1)\n",
    ")\n",
    "\n",
    "att_preds, att_probs = trainer.model_predict(attacks)\n",
    "success_rate = (att_preds != suc_labels).sum() / len(att_preds)\n",
    "print(f'{att_name}:\\tSuccess Rate: {success_rate * 100:4.2f}%,  Norm: {norm:.3e},  Avg Time: {(final - start)/fig_num:.3f}s')\n",
    "metrics[att_name] = {\n",
    "    'success_rate': (success_rate * 100).item(),\n",
    "    'norm': norm.item(),\n",
    "    'time': final - start\n",
    "}"
   ]
  },
  {
   "attachments": {},
   "cell_type": "markdown",
   "metadata": {},
   "source": [
    "### FGM"
   ]
  },
  {
   "cell_type": "code",
   "execution_count": 5,
   "metadata": {},
   "outputs": [
    {
     "name": "stderr",
     "output_type": "stream",
     "text": [
      "100%|██████████| 379/379 [00:02<00:00, 128.30it/s]\n"
     ]
    },
    {
     "name": "stdout",
     "output_type": "stream",
     "text": [
      "FGM:\tSuccess Rate: 82.85%,  Norm: 3.115e-01,  Avg Time: 0.007s\n"
     ]
    }
   ],
   "source": [
    "att_method = attack.FGM(trainer.model)\n",
    "att_name = att_method.__class__.__name__\n",
    "attacks = torch.zeros_like(suc_imgs)\n",
    "start = time.time()\n",
    "with trange(len(suc_imgs)) as t:\n",
    "    for i in t:\n",
    "        attacks[i] = att_method(suc_imgs[i], suc_labels[i], eps = 10)\n",
    "final = time.time()\n",
    "\n",
    "deltas = attacks - suc_imgs\n",
    "norm = torch.mean(\n",
    "    torch.linalg.norm(deltas.reshape(len(deltas), -1), dim = 1) \\\n",
    "        / torch.linalg.norm(suc_imgs.reshape(len(deltas), -1), dim = 1)\n",
    ")\n",
    "\n",
    "att_preds, att_probs = trainer.model_predict(attacks)\n",
    "success_rate = (att_preds != suc_labels).sum() / len(att_preds)\n",
    "print(f'{att_name}:\\tSuccess Rate: {success_rate * 100:4.2f}%,  Norm: {norm:.3e},  Avg Time: {(final - start)/fig_num:.3f}s')\n",
    "metrics[att_name] = {\n",
    "    'success_rate': (success_rate * 100).item(),\n",
    "    'norm': norm.item(),\n",
    "    'time': final - start\n",
    "}"
   ]
  },
  {
   "attachments": {},
   "cell_type": "markdown",
   "metadata": {},
   "source": [
    "### I-FGSM"
   ]
  },
  {
   "cell_type": "code",
   "execution_count": 6,
   "metadata": {},
   "outputs": [
    {
     "name": "stderr",
     "output_type": "stream",
     "text": [
      "100%|██████████| 379/379 [00:14<00:00, 26.07it/s]\n"
     ]
    },
    {
     "name": "stdout",
     "output_type": "stream",
     "text": [
      "IFGSM:\tSuccess Rate: 100.00%,  Norm: 2.316e-01,  Avg Time: 0.036s\n"
     ]
    }
   ],
   "source": [
    "att_method = attack.IFGSM(trainer.model)\n",
    "att_name = att_method.__class__.__name__\n",
    "attacks = torch.zeros_like(suc_imgs)\n",
    "start = time.time()\n",
    "with trange(len(suc_imgs)) as t:\n",
    "    for i in t:\n",
    "        attacks[i] = att_method(suc_imgs[i], suc_labels[i])\n",
    "final = time.time()\n",
    "\n",
    "deltas = attacks - suc_imgs\n",
    "norm = torch.mean(\n",
    "    torch.linalg.norm(deltas.reshape(len(deltas), -1), dim = 1) \\\n",
    "        / torch.linalg.norm(suc_imgs.reshape(len(deltas), -1), dim = 1)\n",
    ")\n",
    "\n",
    "att_preds, att_probs = trainer.model_predict(attacks)\n",
    "success_rate = (att_preds != suc_labels).sum() / len(att_preds)\n",
    "print(f'{att_name}:\\tSuccess Rate: {success_rate * 100:4.2f}%,  Norm: {norm:.3e},  Avg Time: {(final - start)/fig_num:.3f}s')\n",
    "metrics[att_name] = {\n",
    "    'success_rate': (success_rate * 100).item(),\n",
    "    'norm': norm.item(),\n",
    "    'time': final - start\n",
    "}"
   ]
  },
  {
   "attachments": {},
   "cell_type": "markdown",
   "metadata": {},
   "source": [
    "### PGD"
   ]
  },
  {
   "cell_type": "code",
   "execution_count": 3,
   "metadata": {},
   "outputs": [
    {
     "name": "stderr",
     "output_type": "stream",
     "text": [
      "100%|██████████| 379/379 [00:25<00:00, 14.87it/s]\n"
     ]
    },
    {
     "name": "stdout",
     "output_type": "stream",
     "text": [
      "IFGSM:\tSuccess Rate: 100.00%,  Norm: 2.318e-01,  Avg Time: 0.064s\n"
     ]
    }
   ],
   "source": [
    "att_method = attack.IFGSM(trainer.model)\n",
    "att_name = att_method.__class__.__name__\n",
    "attacks = torch.zeros_like(suc_imgs)\n",
    "start = time.time()\n",
    "with trange(len(suc_imgs)) as t:\n",
    "    for i in t:\n",
    "        attacks[i] = att_method(suc_imgs[i], suc_labels[i])\n",
    "final = time.time()\n",
    "\n",
    "deltas = attacks - suc_imgs\n",
    "norm = torch.mean(\n",
    "    torch.linalg.norm(deltas.reshape(len(deltas), -1), dim = 1) \\\n",
    "        / torch.linalg.norm(suc_imgs.reshape(len(deltas), -1), dim = 1)\n",
    ")\n",
    "\n",
    "att_preds, att_probs = trainer.model_predict(attacks)\n",
    "success_rate = (att_preds != suc_labels).sum() / len(att_preds)\n",
    "print(f'{att_name}:\\tSuccess Rate: {success_rate * 100:4.2f}%,  Norm: {norm:.3e},  Avg Time: {(final - start)/fig_num:.3f}s')\n",
    "metrics[att_name] = {\n",
    "    'success_rate': (success_rate * 100).item(),\n",
    "    'norm': norm.item(),\n",
    "    'time': final - start\n",
    "}"
   ]
  },
  {
   "attachments": {},
   "cell_type": "markdown",
   "metadata": {},
   "source": [
    "### MIFGSM"
   ]
  },
  {
   "cell_type": "code",
   "execution_count": 7,
   "metadata": {},
   "outputs": [
    {
     "name": "stderr",
     "output_type": "stream",
     "text": [
      "100%|██████████| 379/379 [00:14<00:00, 26.06it/s]\n"
     ]
    },
    {
     "name": "stdout",
     "output_type": "stream",
     "text": [
      "MIFGSM:\tSuccess Rate: 100.00%,  Norm: 2.402e-01,  Avg Time: 0.036s\n"
     ]
    }
   ],
   "source": [
    "att_method = attack.MIFGSM(trainer.model)\n",
    "att_name = att_method.__class__.__name__\n",
    "attacks = torch.zeros_like(suc_imgs)\n",
    "start = time.time()\n",
    "with trange(len(suc_imgs)) as t:\n",
    "    for i in t:\n",
    "        attacks[i] = att_method(suc_imgs[i], suc_labels[i])\n",
    "final = time.time()\n",
    "\n",
    "deltas = attacks - suc_imgs\n",
    "norm = torch.mean(\n",
    "    torch.linalg.norm(deltas.reshape(len(deltas), -1), dim = 1) \\\n",
    "        / torch.linalg.norm(suc_imgs.reshape(len(deltas), -1), dim = 1)\n",
    ")\n",
    "\n",
    "att_preds, att_probs = trainer.model_predict(attacks)\n",
    "success_rate = (att_preds != suc_labels).sum() / len(att_preds)\n",
    "print(f'{att_name}:\\tSuccess Rate: {success_rate * 100:4.2f}%,  Norm: {norm:.3e},  Avg Time: {(final - start)/fig_num:.3f}s')\n",
    "metrics[att_name] = {\n",
    "    'success_rate': (success_rate * 100).item(),\n",
    "    'norm': norm.item(),\n",
    "    'time': final - start\n",
    "}"
   ]
  },
  {
   "attachments": {},
   "cell_type": "markdown",
   "metadata": {},
   "source": [
    "### NIFGSM"
   ]
  },
  {
   "cell_type": "code",
   "execution_count": 8,
   "metadata": {},
   "outputs": [
    {
     "name": "stderr",
     "output_type": "stream",
     "text": [
      "100%|██████████| 379/379 [00:14<00:00, 26.59it/s]\n"
     ]
    },
    {
     "name": "stdout",
     "output_type": "stream",
     "text": [
      "NIFGSM:\tSuccess Rate: 100.00%,  Norm: 2.403e-01,  Avg Time: 0.036s\n"
     ]
    }
   ],
   "source": [
    "att_method = attack.NIFGSM(trainer.model)\n",
    "att_name = att_method.__class__.__name__\n",
    "attacks = torch.zeros_like(suc_imgs)\n",
    "start = time.time()\n",
    "with trange(len(suc_imgs)) as t:\n",
    "    for i in t:\n",
    "        attacks[i] = att_method(suc_imgs[i], suc_labels[i])\n",
    "final = time.time()\n",
    "\n",
    "deltas = attacks - suc_imgs\n",
    "norm = torch.mean(\n",
    "    torch.linalg.norm(deltas.reshape(len(deltas), -1), dim = 1) \\\n",
    "        / torch.linalg.norm(suc_imgs.reshape(len(deltas), -1), dim = 1)\n",
    ")\n",
    "\n",
    "att_preds, att_probs = trainer.model_predict(attacks)\n",
    "success_rate = (att_preds != suc_labels).sum() / len(att_preds)\n",
    "print(f'{att_name}:\\tSuccess Rate: {success_rate * 100:4.2f}%,  Norm: {norm:.3e},  Avg Time: {(final - start)/fig_num:.3f}s')\n",
    "metrics[att_name] = {\n",
    "    'success_rate': (success_rate * 100).item(),\n",
    "    'norm': norm.item(),\n",
    "    'time': final - start\n",
    "}"
   ]
  },
  {
   "attachments": {},
   "cell_type": "markdown",
   "metadata": {},
   "source": [
    "### Step-LL"
   ]
  },
  {
   "cell_type": "code",
   "execution_count": 9,
   "metadata": {},
   "outputs": [
    {
     "name": "stderr",
     "output_type": "stream",
     "text": [
      "100%|██████████| 379/379 [00:04<00:00, 88.59it/s]\n"
     ]
    },
    {
     "name": "stdout",
     "output_type": "stream",
     "text": [
      "StepLL:\tSuccess Rate: 80.21%,  Norm: 9.893e-02,  Avg Time: 0.011s\n"
     ]
    }
   ],
   "source": [
    "att_method = attack.StepLL(trainer.model)\n",
    "att_name = att_method.__class__.__name__\n",
    "attacks = torch.zeros_like(suc_imgs)\n",
    "start = time.time()\n",
    "with trange(len(suc_imgs)) as t:\n",
    "    for i in t:\n",
    "        attacks[i] = att_method(suc_imgs[i], 10, eps = 0.05)\n",
    "final = time.time()\n",
    "\n",
    "deltas = attacks - suc_imgs\n",
    "norm = torch.mean(\n",
    "    torch.linalg.norm(deltas.reshape(len(deltas), -1), dim = 1) \\\n",
    "        / torch.linalg.norm(suc_imgs.reshape(len(deltas), -1), dim = 1)\n",
    ")\n",
    "\n",
    "att_preds, att_probs = trainer.model_predict(attacks)\n",
    "success_rate = (att_preds != suc_labels).sum() / len(att_preds)\n",
    "print(f'{att_name}:\\tSuccess Rate: {success_rate * 100:4.2f}%,  Norm: {norm:.3e},  Avg Time: {(final - start)/fig_num:.3f}s')\n",
    "metrics[att_name] = {\n",
    "    'success_rate': (success_rate * 100).item(),\n",
    "    'norm': norm.item(),\n",
    "    'time': final - start\n",
    "}"
   ]
  },
  {
   "attachments": {},
   "cell_type": "markdown",
   "metadata": {},
   "source": [
    "## IterLL"
   ]
  },
  {
   "cell_type": "code",
   "execution_count": 10,
   "metadata": {},
   "outputs": [
    {
     "name": "stderr",
     "output_type": "stream",
     "text": [
      "100%|██████████| 379/379 [00:15<00:00, 24.52it/s]\n"
     ]
    },
    {
     "name": "stdout",
     "output_type": "stream",
     "text": [
      "IterLL:\tSuccess Rate: 100.00%,  Norm: 2.307e-01,  Avg Time: 0.039s\n"
     ]
    }
   ],
   "source": [
    "att_method = attack.IterLL(trainer.model)\n",
    "att_name = att_method.__class__.__name__\n",
    "attacks = torch.zeros_like(suc_imgs)\n",
    "start = time.time()\n",
    "with trange(len(suc_imgs)) as t:\n",
    "    for i in t:\n",
    "        attacks[i] = att_method(suc_imgs[i], 10)\n",
    "final = time.time()\n",
    "\n",
    "deltas = attacks - suc_imgs\n",
    "norm = torch.mean(\n",
    "    torch.linalg.norm(deltas.reshape(len(deltas), -1), dim = 1) \\\n",
    "        / torch.linalg.norm(suc_imgs.reshape(len(deltas), -1), dim = 1)\n",
    ")\n",
    "\n",
    "att_preds, att_probs = trainer.model_predict(attacks)\n",
    "success_rate = (att_preds != suc_labels).sum() / len(att_preds)\n",
    "print(f'{att_name}:\\tSuccess Rate: {success_rate * 100:4.2f}%,  Norm: {norm:.3e},  Avg Time: {(final - start)/fig_num:.3f}s')\n",
    "metrics[att_name] = {\n",
    "    'success_rate': (success_rate * 100).item(),\n",
    "    'norm': norm.item(),\n",
    "    'time': final - start\n",
    "}"
   ]
  },
  {
   "attachments": {},
   "cell_type": "markdown",
   "metadata": {},
   "source": [
    "### Deep Fool"
   ]
  },
  {
   "cell_type": "code",
   "execution_count": 11,
   "metadata": {},
   "outputs": [
    {
     "name": "stderr",
     "output_type": "stream",
     "text": [
      "100%|██████████| 379/379 [00:21<00:00, 17.77it/s]"
     ]
    },
    {
     "name": "stdout",
     "output_type": "stream",
     "text": [
      "DeepFool:\tSuccess Rate: 90.24%,  Norm: 2.793e-01,  Avg Time: 0.053s\n"
     ]
    },
    {
     "name": "stderr",
     "output_type": "stream",
     "text": [
      "\n"
     ]
    }
   ],
   "source": [
    "att_method = attack.DeepFool(trainer.model)\n",
    "att_name = att_method.__class__.__name__\n",
    "attacks = torch.zeros_like(suc_imgs)\n",
    "start = time.time()\n",
    "with trange(len(suc_imgs)) as t:\n",
    "    for i in t:\n",
    "        attacks[i] = att_method(suc_imgs[i], 10)\n",
    "final = time.time()\n",
    "\n",
    "deltas = attacks - suc_imgs\n",
    "norm = torch.mean(\n",
    "    torch.linalg.norm(deltas.reshape(len(deltas), -1), dim = 1) \\\n",
    "        / torch.linalg.norm(suc_imgs.reshape(len(deltas), -1), dim = 1)\n",
    ")\n",
    "\n",
    "att_preds, att_probs = trainer.model_predict(attacks)\n",
    "success_rate = (att_preds != suc_labels).sum() / len(att_preds)\n",
    "print(f'{att_name}:\\tSuccess Rate: {success_rate * 100:4.2f}%,  Norm: {norm:.3e},  Avg Time: {(final - start)/fig_num:.3f}s')\n",
    "metrics[att_name] = {\n",
    "    'success_rate': (success_rate * 100).item(),\n",
    "    'norm': norm.item(),\n",
    "    'time': final - start\n",
    "}"
   ]
  },
  {
   "attachments": {},
   "cell_type": "markdown",
   "metadata": {},
   "source": [
    "### One Pixel"
   ]
  },
  {
   "cell_type": "code",
   "execution_count": 12,
   "metadata": {},
   "outputs": [],
   "source": [
    "# att_method = attack.OnePixel(trainer.model)\n",
    "# att_name = att_method.__class__.__name__\n",
    "# attacks = torch.zeros_like(suc_imgs)\n",
    "# start = time.time()\n",
    "# with trange(len(suc_imgs)) as t:\n",
    "#     for i in t:\n",
    "#         attacks[i] = att_method(suc_imgs[i], suc_labels[i], 100, 400)\n",
    "# final = time.time()\n",
    "\n",
    "# deltas = attacks - suc_imgs\n",
    "# norm = torch.mean(\n",
    "#     torch.linalg.norm(deltas.reshape(len(deltas), -1), dim = 1) \\\n",
    "#         / torch.linalg.norm(suc_imgs.reshape(len(deltas), -1), dim = 1)\n",
    "# )\n",
    "\n",
    "# att_preds, att_probs = trainer.model_predict(attacks)\n",
    "# success_rate = (att_preds != suc_labels).sum() / len(att_preds)\n",
    "# print(f'{att_name}:\\tSuccess Rate: {success_rate * 100:4.2f}%,  Norm: {norm:.3e},  Avg Time: {(final - start)/fig_num:.3f}s')\n",
    "# metrics[att_name] = {\n",
    "#     'success_rate': success_rate * 100,\n",
    "#     'norm': norm,\n",
    "#     'time': final - start\n",
    "# }"
   ]
  },
  {
   "cell_type": "code",
   "execution_count": 13,
   "metadata": {},
   "outputs": [],
   "source": [
    "metrics_df = pd.DataFrame(metrics)"
   ]
  },
  {
   "cell_type": "code",
   "execution_count": 14,
   "metadata": {},
   "outputs": [
    {
     "data": {
      "text/html": [
       "<div>\n",
       "<style scoped>\n",
       "    .dataframe tbody tr th:only-of-type {\n",
       "        vertical-align: middle;\n",
       "    }\n",
       "\n",
       "    .dataframe tbody tr th {\n",
       "        vertical-align: top;\n",
       "    }\n",
       "\n",
       "    .dataframe thead th {\n",
       "        text-align: right;\n",
       "    }\n",
       "</style>\n",
       "<table border=\"1\" class=\"dataframe\">\n",
       "  <thead>\n",
       "    <tr style=\"text-align: right;\">\n",
       "      <th></th>\n",
       "      <th>FGSM</th>\n",
       "      <th>FGM</th>\n",
       "      <th>IFGSM</th>\n",
       "      <th>MIFGSM</th>\n",
       "      <th>NIFGSM</th>\n",
       "      <th>StepLL</th>\n",
       "      <th>IterLL</th>\n",
       "      <th>DeepFool</th>\n",
       "    </tr>\n",
       "  </thead>\n",
       "  <tbody>\n",
       "    <tr>\n",
       "      <th>success_rate</th>\n",
       "      <td>83.641159</td>\n",
       "      <td>82.849602</td>\n",
       "      <td>100.000000</td>\n",
       "      <td>100.000000</td>\n",
       "      <td>100.000000</td>\n",
       "      <td>80.211082</td>\n",
       "      <td>100.000000</td>\n",
       "      <td>90.237465</td>\n",
       "    </tr>\n",
       "    <tr>\n",
       "      <th>norm</th>\n",
       "      <td>0.195761</td>\n",
       "      <td>0.311550</td>\n",
       "      <td>0.231609</td>\n",
       "      <td>0.240249</td>\n",
       "      <td>0.240260</td>\n",
       "      <td>0.098932</td>\n",
       "      <td>0.230711</td>\n",
       "      <td>0.279301</td>\n",
       "    </tr>\n",
       "    <tr>\n",
       "      <th>time</th>\n",
       "      <td>3.564740</td>\n",
       "      <td>2.955983</td>\n",
       "      <td>14.544076</td>\n",
       "      <td>14.546105</td>\n",
       "      <td>14.254607</td>\n",
       "      <td>4.280385</td>\n",
       "      <td>15.462418</td>\n",
       "      <td>21.326583</td>\n",
       "    </tr>\n",
       "  </tbody>\n",
       "</table>\n",
       "</div>"
      ],
      "text/plain": [
       "                   FGSM        FGM       IFGSM      MIFGSM      NIFGSM  \\\n",
       "success_rate  83.641159  82.849602  100.000000  100.000000  100.000000   \n",
       "norm           0.195761   0.311550    0.231609    0.240249    0.240260   \n",
       "time           3.564740   2.955983   14.544076   14.546105   14.254607   \n",
       "\n",
       "                 StepLL      IterLL   DeepFool  \n",
       "success_rate  80.211082  100.000000  90.237465  \n",
       "norm           0.098932    0.230711   0.279301  \n",
       "time           4.280385   15.462418  21.326583  "
      ]
     },
     "execution_count": 14,
     "metadata": {},
     "output_type": "execute_result"
    }
   ],
   "source": [
    "metrics_df"
   ]
  },
  {
   "cell_type": "code",
   "execution_count": 15,
   "metadata": {},
   "outputs": [],
   "source": [
    "metrics_df.to_csv('./results/attack_metrics.csv')"
   ]
  }
 ],
 "metadata": {
  "kernelspec": {
   "display_name": "AA",
   "language": "python",
   "name": "python3"
  },
  "language_info": {
   "codemirror_mode": {
    "name": "ipython",
    "version": 3
   },
   "file_extension": ".py",
   "mimetype": "text/x-python",
   "name": "python",
   "nbconvert_exporter": "python",
   "pygments_lexer": "ipython3",
   "version": "3.11.3"
  },
  "orig_nbformat": 4
 },
 "nbformat": 4,
 "nbformat_minor": 2
}
