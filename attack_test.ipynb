{
 "cells": [
  {
   "cell_type": "code",
   "execution_count": 1,
   "metadata": {},
   "outputs": [],
   "source": [
    "import torch\n",
    "from torch import nn\n",
    "from torch.nn import functional as F\n",
    "\n",
    "import numpy as np\n",
    "import matplotlib.pyplot as plt\n",
    "import pandas as pd\n",
    "\n",
    "import time\n",
    "from tabulate import tabulate\n",
    "\n",
    "\n",
    "from trainer import Trainer, generate_data_iter\n",
    "import utils\n",
    "import attack\n",
    "import cam"
   ]
  },
  {
   "cell_type": "code",
   "execution_count": 2,
   "metadata": {},
   "outputs": [
    {
     "name": "stdout",
     "output_type": "stream",
     "text": [
      "Files already downloaded and verified\n",
      "Files already downloaded and verified\n",
      "Files already downloaded and verified\n",
      "{'time': 0, 'success_rate': 1, 'delta_norm': 0, 'Average Incr': 0.3509235084056854, 'Average Drop': 0.006324526853859425, 'Insertion': 0.7219066365001624, 'Deletion': 0.33556587325807763, 'saliency_diff': 0, 'shift_dist': 0}\n"
     ]
    }
   ],
   "source": [
    "model_mode, dataset, seed, cuda = 'resnet18', 'CIFAR10', 0, 2\n",
    "target_layer = 'layer4' if model_mode == 'resnet18' else 'blocks'\n",
    "fig_num = 400\n",
    "metrics = {}\n",
    "\n",
    "trainer = Trainer(\n",
    "    model_mode = model_mode,\n",
    "    dataset = dataset,\n",
    "    bs = 128,\n",
    "    lr = 0.01,\n",
    "    seed = seed,\n",
    "    cuda = cuda,\n",
    "    use_lr_sche = True,\n",
    "    use_wandb = False,\n",
    ")\n",
    "trainer.load()\n",
    "scorecam = cam.ScoreCAM(trainer.model, dataset, target_layer, cuda = cuda)\n",
    "\n",
    "# Generate Test data\n",
    "test_iter = generate_data_iter(dataset, batch_size = fig_num, mode = 'test')\n",
    "imgs, labels = next(iter(test_iter))\n",
    "raw_cam_nps, raw_preds, _, __ = scorecam(imgs, metric = False)\n",
    "\n",
    "# Extract Successful Results\n",
    "suc_indices = raw_preds == labels\n",
    "suc_imgs, suc_labels = imgs[suc_indices], labels[suc_indices]\n",
    "suc_cams, suc_saliency_maps, suc_preds, suc_probs, suc_cam_metrics \\\n",
    "    = scorecam(suc_imgs, metric = True, saliency = True)\n",
    "\n",
    "\n",
    "metrics['Raw'] = {\n",
    "    'time': 0,\n",
    "    'success_rate': 1,\n",
    "    'delta_norm': 0,\n",
    "    'Average Incr': suc_cam_metrics['Average Incr'], \n",
    "    'Average Drop': suc_cam_metrics['Average Drop'],\n",
    "    'Insertion':  suc_cam_metrics['Insertion'], \n",
    "    'Deletion': suc_cam_metrics['Deletion'],\n",
    "    'saliency_diff': 0,\n",
    "    'shift_dist': 0\n",
    "}\n",
    "print(tabulate(\n",
    "    list(metrics['Raw'].items()), tablefmt ='orgtbl'\n",
    "))"
   ]
  },
  {
   "cell_type": "code",
   "execution_count": 25,
   "metadata": {},
   "outputs": [],
   "source": [
    "def test_advatt(att, att_kwargs: dict = {}):\n",
    "    start = time.time()\n",
    "    attacks = att(\n",
    "        suc_imgs, suc_labels, max_iter = 5, num_classes = 10, attack_kwargs = att_kwargs\n",
    "    )\n",
    "    finish = time.time()\n",
    "    deltas = attacks - suc_imgs\n",
    "\n",
    "    att_cams, att_saliency_maps, att_preds, __, att_cam_metrics \\\n",
    "        = scorecam(attacks, metric = True, saliency = True)\n",
    "\n",
    "    # Success Rate\n",
    "    success_rate = (att_preds != suc_labels).sum() / len(att_preds)\n",
    "\n",
    "    # delta norm\n",
    "    delta_norm = torch.mean(\n",
    "        torch.linalg.norm(deltas.reshape(len(deltas), -1), dim = 1) \\\n",
    "            / torch.linalg.norm(suc_imgs.reshape(len(deltas), -1), dim = 1)\n",
    "    )\n",
    "\n",
    "    # delta saliency map norm\n",
    "    saliency_diff = np.linalg.norm(\n",
    "        att_saliency_maps - suc_saliency_maps,\n",
    "        axis = (1, 2)\n",
    "    ).mean()\n",
    "\n",
    "    # maximum shift\n",
    "    size = imgs.shape[-1]\n",
    "    suc_max_idx_raw = np.argmax(suc_saliency_maps.reshape(len(suc_saliency_maps), -1), axis = 1)\n",
    "    suc_max_x, suc_max_y = suc_max_idx_raw // size, suc_max_idx_raw % size\n",
    "\n",
    "    att_max_idx_raw = np.argmax(att_saliency_maps.reshape(len(att_saliency_maps), -1), axis = 1)\n",
    "    att_max_x, att_max_y = att_max_idx_raw // size, suc_max_idx_raw % size\n",
    "    shift_dist = np.sqrt((att_max_x - suc_max_x)**2 + (att_max_y - suc_max_y)**2).mean()\n",
    "    \n",
    "    metrics = {\n",
    "        'time': finish - start,\n",
    "        'success_rate': success_rate.item(),\n",
    "        'delta_norm': delta_norm.item(),\n",
    "        'Average Incr': att_cam_metrics['Average Incr'], \n",
    "        'Average Drop': att_cam_metrics['Average Drop'],\n",
    "        'Insertion':  att_cam_metrics['Insertion'], \n",
    "        'Deletion': att_cam_metrics['Deletion'],\n",
    "        'saliency_diff': saliency_diff,\n",
    "        'shift_dist': shift_dist\n",
    "    }\n",
    "    return attacks, att_cams, metrics\n",
    "\n",
    "def plot_imgs(\n",
    "    raw_img: torch.Tensor,\n",
    "    att_img: torch.Tensor,\n",
    "    suc_cam: np.ndarray,\n",
    "    att_cam: np.ndarray\n",
    "):\n",
    "    fig = plt.figure(figsize = (12, 3))\n",
    "    plt.subplot(1, 4, 1)\n",
    "    plt.imshow(np.transpose(raw_img.numpy(), (1, 2, 0)))\n",
    "    plt.title('Raw')\n",
    "    plt.axis('off')\n",
    "    \n",
    "    plt.subplot(1, 4, 2)\n",
    "    plt.imshow(np.transpose(att_img.numpy(), (1, 2, 0)))\n",
    "    plt.title('Attack')\n",
    "    plt.axis('off')\n",
    "    \n",
    "    plt.subplot(1, 4, 3)\n",
    "    plt.imshow(suc_cam)\n",
    "    plt.axis('off')\n",
    "    \n",
    "    plt.subplot(1, 4, 4)\n",
    "    plt.imshow(att_cam)\n",
    "    plt.axis('off')"
   ]
  },
  {
   "attachments": {},
   "cell_type": "markdown",
   "metadata": {},
   "source": [
    "### FGSM"
   ]
  },
  {
   "cell_type": "code",
   "execution_count": 23,
   "metadata": {},
   "outputs": [
    {
     "name": "stderr",
     "output_type": "stream",
     "text": [
      "100%|██████████| 379/379 [00:03<00:00, 118.03it/s]\n"
     ]
    },
    {
     "name": "stdout",
     "output_type": "stream",
     "text": [
      "| time          | 3.21272   |\n",
      "| success_rate  | 0.852243  |\n",
      "| delta_norm    | 0.0989221 |\n",
      "| Average Incr  | 0.738786  |\n",
      "| Average Drop  | 0.0129536 |\n",
      "| Insertion     | 0.58754   |\n",
      "| Deletion      | 0.269025  |\n",
      "| saliency_diff | 8.5148    |\n",
      "| shift_dist    | 6.32982   |\n"
     ]
    }
   ],
   "source": [
    "att = attack.FGSM(trainer.model, cuda)\n",
    "att_name = att.__class__.__name__\n",
    "att_kwargs = {'eps': 0.05}\n",
    "att_imgs, att_cams, metrics[att_name] = test_advatt(att, att_kwargs)\n",
    "print(tabulate(\n",
    "    list(metrics[att_name].items()), tablefmt ='orgtbl'\n",
    "))"
   ]
  },
  {
   "cell_type": "code",
   "execution_count": 26,
   "metadata": {},
   "outputs": [
    {
     "data": {
      "image/png": "[encoded data removed]",
      "text/plain": [
       "<Figure size 1200x300 with 4 Axes>"
      ]
     },
     "metadata": {},
     "output_type": "display_data"
    }
   ],
   "source": [
    "idx = 4\n",
    "plot_imgs(\n",
    "    suc_imgs[idx], att_imgs[idx], \n",
    "    suc_cams[idx], att_cams[idx]\n",
    ")"
   ]
  },
  {
   "attachments": {},
   "cell_type": "markdown",
   "metadata": {},
   "source": [
    "### FGM"
   ]
  },
  {
   "cell_type": "code",
   "execution_count": 35,
   "metadata": {},
   "outputs": [
    {
     "name": "stderr",
     "output_type": "stream",
     "text": [
      "100%|██████████| 379/379 [00:03<00:00, 119.27it/s]\n"
     ]
    },
    {
     "name": "stdout",
     "output_type": "stream",
     "text": [
      "| time          | 3.19088   |\n",
      "| success_rate  | 0.717678  |\n",
      "| delta_norm    | 0.0359267 |\n",
      "| Average Incr  | 0.701847  |\n",
      "| Average Drop  | 0.0137969 |\n",
      "| Insertion     | 0.62591   |\n",
      "| Deletion      | 0.299057  |\n",
      "| saliency_diff | 7.4072    |\n",
      "| shift_dist    | 5.56728   |\n"
     ]
    }
   ],
   "source": [
    "att = attack.FGM(trainer.model, cuda)\n",
    "att_name = att.__class__.__name__\n",
    "att_kwargs = {'eps': 1}\n",
    "att_imgs, att_cams, metrics[att_name] = test_advatt(att, att_kwargs)\n",
    "print(tabulate(\n",
    "    list(metrics[att_name].items()), tablefmt ='orgtbl'\n",
    "))"
   ]
  },
  {
   "cell_type": "code",
   "execution_count": 36,
   "metadata": {},
   "outputs": [
    {
     "data": {
      "image/png": "[encoded data removed]",
      "text/plain": [
       "<Figure size 1200x300 with 4 Axes>"
      ]
     },
     "metadata": {},
     "output_type": "display_data"
    }
   ],
   "source": [
    "idx = 3\n",
    "plot_imgs(\n",
    "    suc_imgs[idx], att_imgs[idx], \n",
    "    suc_cams[idx], att_cams[idx]\n",
    ")"
   ]
  },
  {
   "attachments": {},
   "cell_type": "markdown",
   "metadata": {},
   "source": [
    "### I-FGSM"
   ]
  },
  {
   "cell_type": "code",
   "execution_count": 6,
   "metadata": {},
   "outputs": [
    {
     "name": "stderr",
     "output_type": "stream",
     "text": [
      "100%|██████████| 379/379 [00:14<00:00, 26.07it/s]\n"
     ]
    },
    {
     "name": "stdout",
     "output_type": "stream",
     "text": [
      "IFGSM:\tSuccess Rate: 100.00%,  Norm: 2.316e-01,  Avg Time: 0.036s\n"
     ]
    }
   ],
   "source": [
    "att = attack.IFGSM(trainer.model)\n",
    "att_name = att.__class__.__name__\n",
    "attacks = torch.zeros_like(suc_imgs)\n",
    "start = time.time()\n",
    "with trange(len(suc_imgs)) as t:\n",
    "    for i in t:\n",
    "        attacks[i] = att(suc_imgs[i], suc_labels[i])\n",
    "final = time.time()\n",
    "\n",
    "deltas = attacks - suc_imgs\n",
    "norm = torch.mean(\n",
    "    torch.linalg.norm(deltas.reshape(len(deltas), -1), dim = 1) \\\n",
    "        / torch.linalg.norm(suc_imgs.reshape(len(deltas), -1), dim = 1)\n",
    ")\n",
    "\n",
    "att_preds, att_probs = trainer.model_predict(attacks)\n",
    "success_rate = (att_preds != suc_labels).sum() / len(att_preds)\n",
    "print(f'{att_name}:\\tSuccess Rate: {success_rate * 100:4.2f}%,  Norm: {norm:.3e},  Avg Time: {(final - start)/fig_num:.3f}s')\n",
    "metrics[att_name] = {\n",
    "    'success_rate': (success_rate * 100).item(),\n",
    "    'norm': norm.item(),\n",
    "    'time': final - start\n",
    "}"
   ]
  },
  {
   "attachments": {},
   "cell_type": "markdown",
   "metadata": {},
   "source": [
    "### PGD"
   ]
  },
  {
   "cell_type": "code",
   "execution_count": 3,
   "metadata": {},
   "outputs": [
    {
     "name": "stderr",
     "output_type": "stream",
     "text": [
      "100%|██████████| 379/379 [00:25<00:00, 14.87it/s]\n"
     ]
    },
    {
     "name": "stdout",
     "output_type": "stream",
     "text": [
      "IFGSM:\tSuccess Rate: 100.00%,  Norm: 2.318e-01,  Avg Time: 0.064s\n"
     ]
    }
   ],
   "source": [
    "att = attack.IFGSM(trainer.model)\n",
    "att_name = att.__class__.__name__\n",
    "attacks = torch.zeros_like(suc_imgs)\n",
    "start = time.time()\n",
    "with trange(len(suc_imgs)) as t:\n",
    "    for i in t:\n",
    "        attacks[i] = att(suc_imgs[i], suc_labels[i])\n",
    "final = time.time()\n",
    "\n",
    "deltas = attacks - suc_imgs\n",
    "norm = torch.mean(\n",
    "    torch.linalg.norm(deltas.reshape(len(deltas), -1), dim = 1) \\\n",
    "        / torch.linalg.norm(suc_imgs.reshape(len(deltas), -1), dim = 1)\n",
    ")\n",
    "\n",
    "att_preds, att_probs = trainer.model_predict(attacks)\n",
    "success_rate = (att_preds != suc_labels).sum() / len(att_preds)\n",
    "print(f'{att_name}:\\tSuccess Rate: {success_rate * 100:4.2f}%,  Norm: {norm:.3e},  Avg Time: {(final - start)/fig_num:.3f}s')\n",
    "metrics[att_name] = {\n",
    "    'success_rate': (success_rate * 100).item(),\n",
    "    'norm': norm.item(),\n",
    "    'time': final - start\n",
    "}"
   ]
  },
  {
   "attachments": {},
   "cell_type": "markdown",
   "metadata": {},
   "source": [
    "### MIFGSM"
   ]
  },
  {
   "cell_type": "code",
   "execution_count": 7,
   "metadata": {},
   "outputs": [
    {
     "name": "stderr",
     "output_type": "stream",
     "text": [
      "100%|██████████| 379/379 [00:14<00:00, 26.06it/s]\n"
     ]
    },
    {
     "name": "stdout",
     "output_type": "stream",
     "text": [
      "MIFGSM:\tSuccess Rate: 100.00%,  Norm: 2.402e-01,  Avg Time: 0.036s\n"
     ]
    }
   ],
   "source": [
    "att = attack.MIFGSM(trainer.model)\n",
    "att_name = att.__class__.__name__\n",
    "attacks = torch.zeros_like(suc_imgs)\n",
    "start = time.time()\n",
    "with trange(len(suc_imgs)) as t:\n",
    "    for i in t:\n",
    "        attacks[i] = att(suc_imgs[i], suc_labels[i])\n",
    "final = time.time()\n",
    "\n",
    "deltas = attacks - suc_imgs\n",
    "norm = torch.mean(\n",
    "    torch.linalg.norm(deltas.reshape(len(deltas), -1), dim = 1) \\\n",
    "        / torch.linalg.norm(suc_imgs.reshape(len(deltas), -1), dim = 1)\n",
    ")\n",
    "\n",
    "att_preds, att_probs = trainer.model_predict(attacks)\n",
    "success_rate = (att_preds != suc_labels).sum() / len(att_preds)\n",
    "print(f'{att_name}:\\tSuccess Rate: {success_rate * 100:4.2f}%,  Norm: {norm:.3e},  Avg Time: {(final - start)/fig_num:.3f}s')\n",
    "metrics[att_name] = {\n",
    "    'success_rate': (success_rate * 100).item(),\n",
    "    'norm': norm.item(),\n",
    "    'time': final - start\n",
    "}"
   ]
  },
  {
   "attachments": {},
   "cell_type": "markdown",
   "metadata": {},
   "source": [
    "### NIFGSM"
   ]
  },
  {
   "cell_type": "code",
   "execution_count": 8,
   "metadata": {},
   "outputs": [
    {
     "name": "stderr",
     "output_type": "stream",
     "text": [
      "100%|██████████| 379/379 [00:14<00:00, 26.59it/s]\n"
     ]
    },
    {
     "name": "stdout",
     "output_type": "stream",
     "text": [
      "NIFGSM:\tSuccess Rate: 100.00%,  Norm: 2.403e-01,  Avg Time: 0.036s\n"
     ]
    }
   ],
   "source": [
    "att = attack.NIFGSM(trainer.model)\n",
    "att_name = att.__class__.__name__\n",
    "attacks = torch.zeros_like(suc_imgs)\n",
    "start = time.time()\n",
    "with trange(len(suc_imgs)) as t:\n",
    "    for i in t:\n",
    "        attacks[i] = att(suc_imgs[i], suc_labels[i])\n",
    "final = time.time()\n",
    "\n",
    "deltas = attacks - suc_imgs\n",
    "norm = torch.mean(\n",
    "    torch.linalg.norm(deltas.reshape(len(deltas), -1), dim = 1) \\\n",
    "        / torch.linalg.norm(suc_imgs.reshape(len(deltas), -1), dim = 1)\n",
    ")\n",
    "\n",
    "att_preds, att_probs = trainer.model_predict(attacks)\n",
    "success_rate = (att_preds != suc_labels).sum() / len(att_preds)\n",
    "print(f'{att_name}:\\tSuccess Rate: {success_rate * 100:4.2f}%,  Norm: {norm:.3e},  Avg Time: {(final - start)/fig_num:.3f}s')\n",
    "metrics[att_name] = {\n",
    "    'success_rate': (success_rate * 100).item(),\n",
    "    'norm': norm.item(),\n",
    "    'time': final - start\n",
    "}"
   ]
  },
  {
   "attachments": {},
   "cell_type": "markdown",
   "metadata": {},
   "source": [
    "### Step-LL"
   ]
  },
  {
   "cell_type": "code",
   "execution_count": 9,
   "metadata": {},
   "outputs": [
    {
     "name": "stderr",
     "output_type": "stream",
     "text": [
      "100%|██████████| 379/379 [00:04<00:00, 88.59it/s]\n"
     ]
    },
    {
     "name": "stdout",
     "output_type": "stream",
     "text": [
      "StepLL:\tSuccess Rate: 80.21%,  Norm: 9.893e-02,  Avg Time: 0.011s\n"
     ]
    }
   ],
   "source": [
    "att = attack.StepLL(trainer.model)\n",
    "att_name = att.__class__.__name__\n",
    "attacks = torch.zeros_like(suc_imgs)\n",
    "start = time.time()\n",
    "with trange(len(suc_imgs)) as t:\n",
    "    for i in t:\n",
    "        attacks[i] = att(suc_imgs[i], 10, eps = 0.05)\n",
    "final = time.time()\n",
    "\n",
    "deltas = attacks - suc_imgs\n",
    "norm = torch.mean(\n",
    "    torch.linalg.norm(deltas.reshape(len(deltas), -1), dim = 1) \\\n",
    "        / torch.linalg.norm(suc_imgs.reshape(len(deltas), -1), dim = 1)\n",
    ")\n",
    "\n",
    "att_preds, att_probs = trainer.model_predict(attacks)\n",
    "success_rate = (att_preds != suc_labels).sum() / len(att_preds)\n",
    "print(f'{att_name}:\\tSuccess Rate: {success_rate * 100:4.2f}%,  Norm: {norm:.3e},  Avg Time: {(final - start)/fig_num:.3f}s')\n",
    "metrics[att_name] = {\n",
    "    'success_rate': (success_rate * 100).item(),\n",
    "    'norm': norm.item(),\n",
    "    'time': final - start\n",
    "}"
   ]
  },
  {
   "attachments": {},
   "cell_type": "markdown",
   "metadata": {},
   "source": [
    "## IterLL"
   ]
  },
  {
   "cell_type": "code",
   "execution_count": 10,
   "metadata": {},
   "outputs": [
    {
     "name": "stderr",
     "output_type": "stream",
     "text": [
      "100%|██████████| 379/379 [00:15<00:00, 24.52it/s]\n"
     ]
    },
    {
     "name": "stdout",
     "output_type": "stream",
     "text": [
      "IterLL:\tSuccess Rate: 100.00%,  Norm: 2.307e-01,  Avg Time: 0.039s\n"
     ]
    }
   ],
   "source": [
    "att = attack.IterLL(trainer.model)\n",
    "att_name = att.__class__.__name__\n",
    "attacks = torch.zeros_like(suc_imgs)\n",
    "start = time.time()\n",
    "with trange(len(suc_imgs)) as t:\n",
    "    for i in t:\n",
    "        attacks[i] = att(suc_imgs[i], 10)\n",
    "final = time.time()\n",
    "\n",
    "deltas = attacks - suc_imgs\n",
    "norm = torch.mean(\n",
    "    torch.linalg.norm(deltas.reshape(len(deltas), -1), dim = 1) \\\n",
    "        / torch.linalg.norm(suc_imgs.reshape(len(deltas), -1), dim = 1)\n",
    ")\n",
    "\n",
    "att_preds, att_probs = trainer.model_predict(attacks)\n",
    "success_rate = (att_preds != suc_labels).sum() / len(att_preds)\n",
    "print(f'{att_name}:\\tSuccess Rate: {success_rate * 100:4.2f}%,  Norm: {norm:.3e},  Avg Time: {(final - start)/fig_num:.3f}s')\n",
    "metrics[att_name] = {\n",
    "    'success_rate': (success_rate * 100).item(),\n",
    "    'norm': norm.item(),\n",
    "    'time': final - start\n",
    "}"
   ]
  },
  {
   "attachments": {},
   "cell_type": "markdown",
   "metadata": {},
   "source": [
    "### Deep Fool"
   ]
  },
  {
   "cell_type": "code",
   "execution_count": 11,
   "metadata": {},
   "outputs": [
    {
     "name": "stderr",
     "output_type": "stream",
     "text": [
      "100%|██████████| 379/379 [00:21<00:00, 17.77it/s]"
     ]
    },
    {
     "name": "stdout",
     "output_type": "stream",
     "text": [
      "DeepFool:\tSuccess Rate: 90.24%,  Norm: 2.793e-01,  Avg Time: 0.053s\n"
     ]
    },
    {
     "name": "stderr",
     "output_type": "stream",
     "text": [
      "\n"
     ]
    }
   ],
   "source": [
    "att = attack.DeepFool(trainer.model)\n",
    "att_name = att.__class__.__name__\n",
    "attacks = torch.zeros_like(suc_imgs)\n",
    "start = time.time()\n",
    "with trange(len(suc_imgs)) as t:\n",
    "    for i in t:\n",
    "        attacks[i] = att(suc_imgs[i], 10)\n",
    "final = time.time()\n",
    "\n",
    "deltas = attacks - suc_imgs\n",
    "norm = torch.mean(\n",
    "    torch.linalg.norm(deltas.reshape(len(deltas), -1), dim = 1) \\\n",
    "        / torch.linalg.norm(suc_imgs.reshape(len(deltas), -1), dim = 1)\n",
    ")\n",
    "\n",
    "att_preds, att_probs = trainer.model_predict(attacks)\n",
    "success_rate = (att_preds != suc_labels).sum() / len(att_preds)\n",
    "print(f'{att_name}:\\tSuccess Rate: {success_rate * 100:4.2f}%,  Norm: {norm:.3e},  Avg Time: {(final - start)/fig_num:.3f}s')\n",
    "metrics[att_name] = {\n",
    "    'success_rate': (success_rate * 100).item(),\n",
    "    'norm': norm.item(),\n",
    "    'time': final - start\n",
    "}"
   ]
  },
  {
   "attachments": {},
   "cell_type": "markdown",
   "metadata": {},
   "source": [
    "### One Pixel"
   ]
  },
  {
   "cell_type": "code",
   "execution_count": 12,
   "metadata": {},
   "outputs": [],
   "source": [
    "# att = attack.OnePixel(trainer.model)\n",
    "# att_name = att.__class__.__name__\n",
    "# attacks = torch.zeros_like(suc_imgs)\n",
    "# start = time.time()\n",
    "# with trange(len(suc_imgs)) as t:\n",
    "#     for i in t:\n",
    "#         attacks[i] = att(suc_imgs[i], suc_labels[i], 100, 400)\n",
    "# final = time.time()\n",
    "\n",
    "# deltas = attacks - suc_imgs\n",
    "# norm = torch.mean(\n",
    "#     torch.linalg.norm(deltas.reshape(len(deltas), -1), dim = 1) \\\n",
    "#         / torch.linalg.norm(suc_imgs.reshape(len(deltas), -1), dim = 1)\n",
    "# )\n",
    "\n",
    "# att_preds, att_probs = trainer.model_predict(attacks)\n",
    "# success_rate = (att_preds != suc_labels).sum() / len(att_preds)\n",
    "# print(f'{att_name}:\\tSuccess Rate: {success_rate * 100:4.2f}%,  Norm: {norm:.3e},  Avg Time: {(final - start)/fig_num:.3f}s')\n",
    "# metrics[att_name] = {\n",
    "#     'success_rate': success_rate * 100,\n",
    "#     'norm': norm,\n",
    "#     'time': final - start\n",
    "# }"
   ]
  },
  {
   "cell_type": "code",
   "execution_count": 13,
   "metadata": {},
   "outputs": [],
   "source": [
    "metrics_df = pd.DataFrame(metrics)"
   ]
  },
  {
   "cell_type": "code",
   "execution_count": 14,
   "metadata": {},
   "outputs": [
    {
     "data": {
      "text/html": [
       "<div>\n",
       "<style scoped>\n",
       "    .dataframe tbody tr th:only-of-type {\n",
       "        vertical-align: middle;\n",
       "    }\n",
       "\n",
       "    .dataframe tbody tr th {\n",
       "        vertical-align: top;\n",
       "    }\n",
       "\n",
       "    .dataframe thead th {\n",
       "        text-align: right;\n",
       "    }\n",
       "</style>\n",
       "<table border=\"1\" class=\"dataframe\">\n",
       "  <thead>\n",
       "    <tr style=\"text-align: right;\">\n",
       "      <th></th>\n",
       "      <th>FGSM</th>\n",
       "      <th>FGM</th>\n",
       "      <th>IFGSM</th>\n",
       "      <th>MIFGSM</th>\n",
       "      <th>NIFGSM</th>\n",
       "      <th>StepLL</th>\n",
       "      <th>IterLL</th>\n",
       "      <th>DeepFool</th>\n",
       "    </tr>\n",
       "  </thead>\n",
       "  <tbody>\n",
       "    <tr>\n",
       "      <th>success_rate</th>\n",
       "      <td>83.641159</td>\n",
       "      <td>82.849602</td>\n",
       "      <td>100.000000</td>\n",
       "      <td>100.000000</td>\n",
       "      <td>100.000000</td>\n",
       "      <td>80.211082</td>\n",
       "      <td>100.000000</td>\n",
       "      <td>90.237465</td>\n",
       "    </tr>\n",
       "    <tr>\n",
       "      <th>norm</th>\n",
       "      <td>0.195761</td>\n",
       "      <td>0.311550</td>\n",
       "      <td>0.231609</td>\n",
       "      <td>0.240249</td>\n",
       "      <td>0.240260</td>\n",
       "      <td>0.098932</td>\n",
       "      <td>0.230711</td>\n",
       "      <td>0.279301</td>\n",
       "    </tr>\n",
       "    <tr>\n",
       "      <th>time</th>\n",
       "      <td>3.564740</td>\n",
       "      <td>2.955983</td>\n",
       "      <td>14.544076</td>\n",
       "      <td>14.546105</td>\n",
       "      <td>14.254607</td>\n",
       "      <td>4.280385</td>\n",
       "      <td>15.462418</td>\n",
       "      <td>21.326583</td>\n",
       "    </tr>\n",
       "  </tbody>\n",
       "</table>\n",
       "</div>"
      ],
      "text/plain": [
       "                   FGSM        FGM       IFGSM      MIFGSM      NIFGSM  \\\n",
       "success_rate  83.641159  82.849602  100.000000  100.000000  100.000000   \n",
       "norm           0.195761   0.311550    0.231609    0.240249    0.240260   \n",
       "time           3.564740   2.955983   14.544076   14.546105   14.254607   \n",
       "\n",
       "                 StepLL      IterLL   DeepFool  \n",
       "success_rate  80.211082  100.000000  90.237465  \n",
       "norm           0.098932    0.230711   0.279301  \n",
       "time           4.280385   15.462418  21.326583  "
      ]
     },
     "execution_count": 14,
     "metadata": {},
     "output_type": "execute_result"
    }
   ],
   "source": [
    "metrics_df"
   ]
  },
  {
   "cell_type": "code",
   "execution_count": 15,
   "metadata": {},
   "outputs": [],
   "source": [
    "metrics_df.to_csv('./results/attack_metrics.csv')"
   ]
  }
 ],
 "metadata": {
  "kernelspec": {
   "display_name": "AA",
   "language": "python",
   "name": "python3"
  },
  "language_info": {
   "codemirror_mode": {
    "name": "ipython",
    "version": 3
   },
   "file_extension": ".py",
   "mimetype": "text/x-python",
   "name": "python",
   "nbconvert_exporter": "python",
   "pygments_lexer": "ipython3",
   "version": "3.10.8"
  },
  "orig_nbformat": 4
 },
 "nbformat": 4,
 "nbformat_minor": 2
}
