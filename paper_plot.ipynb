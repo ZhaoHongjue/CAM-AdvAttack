{
 "cells": [
  {
   "cell_type": "code",
   "execution_count": 1,
   "metadata": {},
   "outputs": [],
   "source": [
    "import torch\n",
    "import numpy as np\n",
    "import matplotlib.pyplot as plt\n",
    "import pandas as pd\n",
    "\n",
    "from trainer import Trainer, generate_data_iter\n",
    "import utils\n",
    "import cam\n",
    "\n",
    "import os"
   ]
  },
  {
   "attachments": {},
   "cell_type": "markdown",
   "metadata": {},
   "source": [
    "### Metrics"
   ]
  },
  {
   "cell_type": "code",
   "execution_count": null,
   "metadata": {},
   "outputs": [],
   "source": [
    "settings = [\n",
    "    'resnet18-CIFAR10', 'resnet18-FashionMNIST', \n",
    "    'resnet18-Imagenette', 'densenet121-Imagenette'\n",
    "]\n",
    "for setting in settings:\n",
    "    dataset = setting[setting.find('-')+1:]\n",
    "    mean_df = sum([pd.read_csv(\n",
    "        f'./thesis/cam/cam_metrics/{dataset}/CAM-{setting}-seed{i}.csv', index_col= 0\n",
    "    ) for i in range(3)]) /3\n",
    "    mean_df.to_csv(f'./thesis/paper_tables/CAM-{setting}.csv')\n",
    "    mean_df.to_excel(f'./thesis/paper_tables/CAM-{setting}.xlsx')"
   ]
  },
  {
   "attachments": {},
   "cell_type": "markdown",
   "metadata": {},
   "source": [
    "### Casual Metric\n"
   ]
  },
  {
   "cell_type": "code",
   "execution_count": null,
   "metadata": {},
   "outputs": [],
   "source": [
    "def plot_single_casual_metric(\n",
    "    model_mode: str,\n",
    "    dataset: str,\n",
    "    ins: bool = True,\n",
    "    loc: str = 'lower right',\n",
    "    *args\n",
    "):\n",
    "    cam_names = [\n",
    "        'CAM', 'GradCAM', 'GradCAMpp', 'SMGradCAMpp', 'LayerCAM', 'XGradCAM', 'ScoreCAM',  'SSCAM', 'ISCAM'\n",
    "    ]\n",
    "\n",
    "    ins_mode = 'Ins' if ins else 'Del'\n",
    "    for i in range(len(cam_names)):\n",
    "        score = sum([\n",
    "            np.load(f'./thesis/cam/cam_casual_metrics/{dataset}/{ins_mode}-{cam_names[i]}-{dataset}-{str.lower(model_mode)}-seed{j}.npy')\n",
    "            for j in range(3)\n",
    "        ]) / 3\n",
    "        x_axis = np.linspace(0, 1, len(score))\n",
    "        plt.plot(x_axis, score, label = cam_names[i], lw = 2.2)\n",
    "        plt.xlim([0.0, 1.00])\n",
    "        plt.ylim([0.0, 1.01])\n",
    "        title = 'Insertion' if ins else 'Deletion'\n",
    "        plt.title(f'{title} Curve\\n{dataset}({model_mode})', fontsize = 20)\n",
    "        plt.tick_params(axis = 'both', labelsize = 15)\n",
    "        plt.xlabel('Pixels Inserted', fontsize = 18)\n",
    "        plt.ylabel('Prediction', fontsize = 18)\n",
    "    plt.legend(loc = loc)\n",
    "\n",
    "single_size = 6\n",
    "settings = [\n",
    "    ['ResNet18',        'FashionMNIST',         True,       'lower right'],\n",
    "    ['ResNet18',        'CIFAR10',              True,       'lower right'],\n",
    "    ['ResNet18',        'Imagenette',           True,       'lower right'],\n",
    "    ['DenseNet121',     'Imagenette',           True,       'lower right'],\n",
    "    ['ResNet18',        'FashionMNIST',         False,      'upper right'],\n",
    "    ['ResNet18',        'CIFAR10',              False,      'upper right'],\n",
    "    ['ResNet18',        'Imagenette',           False,      'upper right'],\n",
    "    ['DenseNet121',     'Imagenette',           False,      'upper right'],\n",
    "]\n",
    "\n",
    "fig = plt.figure(figsize=(4*single_size, 2*single_size))\n",
    "for i in range(len(settings)):\n",
    "    plt.subplot(2, 4, i+1)\n",
    "    plot_single_casual_metric(*settings[i])\n",
    "    plt.tight_layout()\n",
    "plt.savefig('./thesis/pics/paper_cam_casual.png', bbox_inches = 'tight', pad_inches = 0.03)\n",
    "plt.savefig('./thesis/pics/paper_cam_casual.svg', bbox_inches = 'tight', pad_inches = 0.03)"
   ]
  },
  {
   "attachments": {},
   "cell_type": "markdown",
   "metadata": {},
   "source": [
    "### Plot"
   ]
  },
  {
   "cell_type": "code",
   "execution_count": null,
   "metadata": {},
   "outputs": [],
   "source": [
    "def draw_cam_pic(seed, single_size = 3):\n",
    "    def get_raw_pics(model_mode, dataset, idx, *args):\n",
    "        utils.set_random_seed(seed)\n",
    "        if dataset != 'Imagenette': \n",
    "            data_iter = generate_data_iter(dataset, 100, 'test')\n",
    "        else:\n",
    "            trainer = Trainer(\n",
    "                model_mode, dataset, bs = 128, lr = 0.01, seed = seed, cuda = 0,\n",
    "                use_lr_sche = True, use_wandb = False,\n",
    "            )\n",
    "            data_iter = generate_data_iter(dataset, 100, 'test')\n",
    "        raw_imgs, _ = next(iter(data_iter))\n",
    "        raw_imgs = np.transpose(raw_imgs.numpy(), (0, 2, 3, 1))\n",
    "        return raw_imgs[idx]\n",
    "    \n",
    "    def get_cam_pics(cam_name, model_mode, dataset, idx, *args):\n",
    "        cam_imgs = np.load(\n",
    "            f'./thesis/cam/cam_pics/{dataset}/{cam_name}-{dataset}-{model_mode}-seed{seed}.npy'\n",
    "        )\n",
    "        return cam_imgs[idx]\n",
    "    \n",
    "    settings = [\n",
    "        ['resnet18',        'FashionMNIST',         10],\n",
    "        ['resnet18',        'FashionMNIST',         11],\n",
    "        ['resnet18',        'CIFAR10',              10],\n",
    "        ['resnet18',        'CIFAR10',              11],\n",
    "        ['resnet18',        'Imagenette',           10],\n",
    "        ['resnet18',        'Imagenette',           11],\n",
    "        ['densenet121',     'Imagenette',           10],\n",
    "        ['densenet121',     'Imagenette',           11],\n",
    "    ]\n",
    "    \n",
    "    titles = [\n",
    "        'FashionMNIST-1\\n(ResNet)',  'FashionMNIST-2\\n(ResNet)', \n",
    "        'CIFAR10-1\\n(ResNet)',        'CIFAR10-2\\n(ResNet)', \n",
    "        'Imagenette-1\\n(ResNet)',     'Imagenette-2\\n(ResNet)',\n",
    "        'Imagenette-1\\n(DenseNet)',    'Imagenette-2\\n(DenseNet)'\n",
    "    ]\n",
    "    \n",
    "    cam_names = [\n",
    "        'CAM', 'GradCAM', 'GradCAMpp', 'SMGradCAMpp', 'LayerCAM', 'XGradCAM', 'ScoreCAM',  'SSCAM', 'ISCAM'\n",
    "    ]\n",
    "    \n",
    "    fontsize = 30\n",
    "    plt.tight_layout()\n",
    "    rows = len(cam_names) + 1\n",
    "    fig = plt.figure(figsize = (len(settings) * single_size +3, rows * single_size + 3))\n",
    "    \n",
    "    for row in range(rows):\n",
    "        if row == 0:\n",
    "            raw_imgs = [get_raw_pics(*settings[i]) for i in range(len(settings))]\n",
    "            for i in range(len(settings)):\n",
    "                plt.subplot(rows, len(settings), i + 1 + row * len(settings))\n",
    "                plt.imshow(raw_imgs[i])\n",
    "                plt.xticks([])\n",
    "                plt.yticks([])\n",
    "                plt.title(titles[i], fontsize = fontsize)\n",
    "                if i == 0:\n",
    "                    plt.ylabel('Raw Image', fontsize = fontsize)\n",
    "        \n",
    "        else:\n",
    "            cam_imgs = [get_cam_pics(cam_names[row - 1], *settings[i]) for i in range(len(settings))]\n",
    "            for i in range(len(settings)):\n",
    "                plt.subplot(rows, len(settings), i + 1 + row * len(settings))\n",
    "                plt.imshow(cam_imgs[i])\n",
    "                plt.xticks([])\n",
    "                plt.yticks([])\n",
    "                if i == 0:\n",
    "                    plt.ylabel(cam_names[row - 1], fontsize = fontsize)\n",
    "    plt.savefig('./thesis/pics/paper_cam.png', bbox_inches = 'tight', pad_inches = 0.03)\n",
    "    plt.savefig('./thesis/pics/paper_cam.svg', bbox_inches = 'tight', pad_inches = 0.03)\n",
    "    \n",
    "draw_cam_pic(0, single_size = 5)"
   ]
  },
  {
   "cell_type": "code",
   "execution_count": 12,
   "metadata": {},
   "outputs": [
    {
     "name": "stdout",
     "output_type": "stream",
     "text": [
      "100 95 95\n"
     ]
    },
    {
     "data": {
      "text/plain": [
       "<matplotlib.image.AxesImage at 0x7fbee3bdb970>"
      ]
     },
     "execution_count": 12,
     "metadata": {},
     "output_type": "execute_result"
    },
    {
     "data": {
      "image/png": "[encoded data removed]",
      "text/plain": [
       "<Figure size 500x500 with 2 Axes>"
      ]
     },
     "metadata": {},
     "output_type": "display_data"
    }
   ],
   "source": [
    "def load_raw_pics(attack_name, model_mode, dataset, seed = 0, idx = 0):\n",
    "    seed = 2\n",
    "    utils.set_random_seed(seed)\n",
    "    if dataset == 'Imagenette':\n",
    "        trainer = Trainer(\n",
    "            model_mode = model_mode,\n",
    "            dataset = dataset,\n",
    "            bs = 128,\n",
    "            lr = 0.01,\n",
    "            seed = seed,\n",
    "            cuda = 3,\n",
    "            use_lr_sche = True,\n",
    "            use_wandb = False,\n",
    "        )\n",
    "    \n",
    "    data_iter = generate_data_iter(dataset, 100, 'test')\n",
    "    raw_imgs, labels = next(iter(data_iter))\n",
    "    \n",
    "    suc_indices = np.load(f'./thesis/attack/indices/{dataset}/suc-{dataset}-{model_mode}-seed0.npy')\n",
    "    att_indices = np.load(f'./thesis/attack/indices/{dataset}/{attack_name}-{dataset}-{model_mode}-seed{seed}.npy')\n",
    "    print(len(suc_indices), sum(suc_indices), len(att_indices))\n",
    "    raw_imgs = np.transpose(raw_imgs.numpy(), (0, 2, 3, 1))[suc_indices][att_indices]\n",
    "    return raw_imgs[idx]\n",
    "\n",
    "def load_att_pics(attack_name, model_mode, dataset, seed = 0, idx = 0): \n",
    "    seed = 2   \n",
    "    att_imgs = np.load(f'./thesis/attack/attack_pics/{dataset}/{attack_name}-{dataset}-{model_mode}-seed{seed}.npy')\n",
    "    att_indices = np.load(f'./thesis/attack/indices/{dataset}/{attack_name}-{dataset}-{model_mode}-seed{seed}.npy')\n",
    "    att_imgs = np.transpose(att_imgs, (0, 2, 3, 1))[att_indices]\n",
    "    return att_imgs[idx]\n",
    "\n",
    "att_name, model_mode, dataset, seed, idx = 'FGSM', 'resnet18', 'FashionMNIST', 1, -1\n",
    "args = [att_name, model_mode, dataset, seed, idx]\n",
    "plt.subplot(1, 2, 1)\n",
    "plt.imshow(load_raw_pics(*args)), \n",
    "plt.subplot(1, 2, 2)\n",
    "plt.imshow(load_att_pics(*args))\n",
    "# load_raw_pics('FGSM', 'resnet18', 'FashionMNIST', 1, idx)"
   ]
  },
  {
   "cell_type": "code",
   "execution_count": 5,
   "metadata": {},
   "outputs": [
    {
     "name": "stdout",
     "output_type": "stream",
     "text": [
      "95\n",
      "95\n",
      "95\n",
      "95\n",
      "99\n",
      "99\n",
      "97\n",
      "99\n"
     ]
    }
   ],
   "source": [
    "def draw_attack_pic(attack_name, seed = 2):\n",
    "    trainer_settings = [\n",
    "        ['FashionMNIST',    'ResNet18'],\n",
    "        ['CIFAR10',         'ResNet18'],\n",
    "        ['Imagenette',      'ResNet18'],\n",
    "        # ['Imagenette',      'DenseNet121'],\n",
    "    ]\n",
    "    for trainer_setting in trainer_settings:\n",
    "        model_mode, dataset = str.lower(trainer_setting[1]), trainer_setting[0],\n",
    "        utils.set_random_seed(seed)\n",
    "        trainer = Trainer(\n",
    "            model_mode, dataset,\n",
    "            bs = 128, lr = 0.01, seed = seed, cuda = 0,\n",
    "            use_lr_sche = True,\n",
    "            use_wandb = False,\n",
    "        )\n",
    "        \n",
    "        data_iter = generate_data_iter(dataset, 100, 'test')\n",
    "        raw_imgs, labels = next(iter(data_iter))\n",
    "        \n",
    "        suc_indices = np.load(f'./thesis/attack/indices/{dataset}/suc-{dataset}-{model_mode}.npy')\n",
    "        att_indices = np.load(f'./thesis/attack/indices/{dataset}/{attack_name}-{dataset}-{model_mode}.npy')\n",
    "        att_imgs = np.load(f'./thesis/attack/attack_pics{dataset}/{attack_name}-{dataset}-{model_mode}-seed{seed}.npy')\n",
    "        print(len(raw_imgs[suc_indices]))\n",
    "        print(len(att_indices))\n",
    "draw_attack_pic('IFGSM')"
   ]
  }
 ],
 "metadata": {
  "kernelspec": {
   "display_name": "taylor",
   "language": "python",
   "name": "python3"
  },
  "language_info": {
   "codemirror_mode": {
    "name": "ipython",
    "version": 3
   },
   "file_extension": ".py",
   "mimetype": "text/x-python",
   "name": "python",
   "nbconvert_exporter": "python",
   "pygments_lexer": "ipython3",
   "version": "3.10.9"
  },
  "orig_nbformat": 4
 },
 "nbformat": 4,
 "nbformat_minor": 2
}
