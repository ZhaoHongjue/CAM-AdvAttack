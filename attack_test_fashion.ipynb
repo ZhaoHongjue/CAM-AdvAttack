{
 "cells": [
  {
   "cell_type": "code",
   "execution_count": 49,
   "metadata": {},
   "outputs": [],
   "source": [
    "import torch\n",
    "from torch import nn\n",
    "from torch.nn import functional as F\n",
    "\n",
    "import numpy as np\n",
    "import matplotlib.pyplot as plt\n",
    "import pandas as pd\n",
    "\n",
    "import time\n",
    "from tabulate import tabulate\n",
    "\n",
    "\n",
    "from trainer import Trainer, generate_data_iter\n",
    "import utils\n",
    "import attack\n",
    "import cam"
   ]
  },
  {
   "cell_type": "code",
   "execution_count": 50,
   "metadata": {},
   "outputs": [
    {
     "name": "stdout",
     "output_type": "stream",
     "text": [
      "| time          | 0           |\n",
      "| success_rate  | 1           |\n",
      "| delta_norm    | 0           |\n",
      "| Average Incr  | 0.315789    |\n",
      "| Average Drop  | 0.000228414 |\n",
      "| Insertion     | 0.595607    |\n",
      "| Deletion      | 0.375929    |\n",
      "| saliency_diff | 0           |\n",
      "| shift_dist    | 0           |\n"
     ]
    }
   ],
   "source": [
    "model_mode, dataset, seed, cuda = 'resnet18', 'FashionMNIST', 2, 0\n",
    "target_layer = 'layer4' if model_mode == 'resnet18' else 'blocks'\n",
    "fig_num = 100\n",
    "metrics = {}\n",
    "\n",
    "utils.set_random_seed(seed)\n",
    "trainer = Trainer(\n",
    "    model_mode = model_mode,\n",
    "    dataset = dataset,\n",
    "    bs = 128,\n",
    "    lr = 0.01,\n",
    "    seed = seed,\n",
    "    cuda = cuda,\n",
    "    use_lr_sche = True,\n",
    "    use_wandb = False,\n",
    ")\n",
    "trainer.load()\n",
    "scorecam = cam.ScoreCAM(trainer.model, dataset, target_layer, cuda = cuda)\n",
    "\n",
    "import os\n",
    "metric_pth = f'./thesis/attack_metrics/{dataset}/'\n",
    "if not os.path.exists(metric_pth):\n",
    "    os.makedirs(metric_pth)\n",
    "    \n",
    "attack_pth = f'./thesis/attack_pics/{dataset}/'\n",
    "if not os.path.exists(attack_pth):\n",
    "    os.makedirs(attack_pth)\n",
    "\n",
    "\n",
    "# Generate Test data\n",
    "test_iter = generate_data_iter(dataset, batch_size = fig_num, mode = 'test')\n",
    "imgs, labels = next(iter(test_iter))\n",
    "raw_cam_nps, raw_preds, _, __ = scorecam(imgs, metric = False)\n",
    "\n",
    "# Extract Successful Results\n",
    "suc_indices = raw_preds == labels\n",
    "suc_imgs, suc_labels = imgs[suc_indices], labels[suc_indices]\n",
    "suc_cams, suc_saliency_maps, suc_preds, suc_probs, suc_cam_metrics \\\n",
    "    = scorecam(suc_imgs, metric = True, saliency = True)\n",
    "\n",
    "\n",
    "metrics['Raw'] = {\n",
    "    'time': 0,\n",
    "    'success_rate': 1,\n",
    "    'delta_norm': 0,\n",
    "    'Average Incr': suc_cam_metrics['Average Incr'], \n",
    "    'Average Drop': suc_cam_metrics['Average Drop'],\n",
    "    'Insertion':  suc_cam_metrics['Insertion'], \n",
    "    'Deletion': suc_cam_metrics['Deletion'],\n",
    "    'saliency_diff': 0,\n",
    "    'shift_dist': 0\n",
    "}\n",
    "print(tabulate(\n",
    "    list(metrics['Raw'].items()), tablefmt ='orgtbl'\n",
    "))"
   ]
  },
  {
   "cell_type": "code",
   "execution_count": 51,
   "metadata": {},
   "outputs": [],
   "source": [
    "def test_advatt(att, max_iter: int = None, att_kwargs: dict = {}):\n",
    "    start = time.time()\n",
    "    att_imgs = att(\n",
    "        suc_imgs, suc_labels, max_iter = max_iter, \n",
    "        num_classes = 10, attack_kwargs = att_kwargs\n",
    "    )\n",
    "    finish = time.time()\n",
    "    deltas = att_imgs - suc_imgs\n",
    "    \n",
    "    att_preds, _ = scorecam.model_predict(scorecam.tfm(att_imgs))\n",
    "    \n",
    "    # Success Rate\n",
    "    indices = att_preds != suc_labels\n",
    "    success_rate = indices.sum() / len(att_preds)\n",
    "\n",
    "    # delta norm\n",
    "    delta_norm = torch.mean(\n",
    "        torch.linalg.norm(deltas.reshape(len(deltas), -1), dim = 1) \\\n",
    "            / torch.linalg.norm(suc_imgs.reshape(len(deltas), -1), dim = 1)\n",
    "    )\n",
    "    \n",
    "    # In cam part, we only focus on successful part\n",
    "    att_suc_cams, att_suc_saliency, _, __, att_suc_cam_metrics \\\n",
    "        = scorecam(att_imgs[indices], metric = True, saliency = True)\n",
    "\n",
    "    # delta saliency map norm\n",
    "    saliency_diff = np.linalg.norm(\n",
    "        att_suc_saliency - suc_saliency_maps[indices.numpy()],\n",
    "        axis = (1, 2)\n",
    "    ).mean()\n",
    "\n",
    "    # maximum shift\n",
    "    size = imgs.shape[-1]\n",
    "    suc_max_idx_raw = np.argmax(\n",
    "        suc_saliency_maps[indices.numpy()].reshape(indices.sum(), -1), axis = 1\n",
    "    )\n",
    "    suc_max_x, suc_max_y = suc_max_idx_raw // size, suc_max_idx_raw % size\n",
    "\n",
    "    att_max_idx_raw = np.argmax(att_suc_saliency.reshape(len(att_suc_saliency), -1), axis = 1)\n",
    "    att_max_x, att_max_y = att_max_idx_raw // size, suc_max_idx_raw % size\n",
    "    shift_dist = np.sqrt((att_max_x - suc_max_x)**2 + (att_max_y - suc_max_y)**2).mean()\n",
    "    \n",
    "    metrics = {\n",
    "        'time': finish - start,\n",
    "        'success_rate': success_rate.item(),\n",
    "        'delta_norm': delta_norm.item(),\n",
    "        'Average Incr': att_suc_cam_metrics['Average Incr'], \n",
    "        'Average Drop': att_suc_cam_metrics['Average Drop'],\n",
    "        'Insertion':  att_suc_cam_metrics['Insertion'], \n",
    "        'Deletion': att_suc_cam_metrics['Deletion'],\n",
    "        'saliency_diff': saliency_diff,\n",
    "        'shift_dist': shift_dist\n",
    "    }\n",
    "    att_name = att.__class__.__name__\n",
    "    np.save(attack_pth + f'{att_name}-{dataset}-{model_mode}-seed{seed}.npy', att_imgs.numpy())\n",
    "    return att_imgs, att_suc_cams, indices.numpy(), metrics\n",
    "\n",
    "def plot_imgs(\n",
    "    raw_img: torch.Tensor,\n",
    "    att_img: torch.Tensor,\n",
    "    suc_cam: np.ndarray,\n",
    "    att_cam: np.ndarray\n",
    "):\n",
    "    fig = plt.figure(figsize = (12, 3))\n",
    "    plt.subplot(1, 4, 1)\n",
    "    plt.imshow(np.transpose(raw_img.numpy(), (1, 2, 0)))\n",
    "    plt.title('Raw')\n",
    "    plt.axis('off')\n",
    "    \n",
    "    plt.subplot(1, 4, 2)\n",
    "    plt.imshow(np.transpose(att_img.numpy(), (1, 2, 0)))\n",
    "    plt.title('Attack')\n",
    "    plt.axis('off')\n",
    "    \n",
    "    plt.subplot(1, 4, 3)\n",
    "    plt.imshow(suc_cam)\n",
    "    plt.axis('off')\n",
    "    \n",
    "    plt.subplot(1, 4, 4)\n",
    "    plt.imshow(att_cam)\n",
    "    plt.axis('off')"
   ]
  },
  {
   "attachments": {},
   "cell_type": "markdown",
   "metadata": {},
   "source": [
    "### FGSM"
   ]
  },
  {
   "cell_type": "code",
   "execution_count": 52,
   "metadata": {},
   "outputs": [
    {
     "name": "stderr",
     "output_type": "stream",
     "text": [
      "100%|██████████| 95/95 [00:00<00:00, 124.34it/s]\n"
     ]
    },
    {
     "name": "stdout",
     "output_type": "stream",
     "text": [
      "| time          | 0.765623  |\n",
      "| success_rate  | 0.368421  |\n",
      "| delta_norm    | 0.0664125 |\n",
      "| Average Incr  | 0.4       |\n",
      "| Average Drop  | 0.0672338 |\n",
      "| Insertion     | 0.402334  |\n",
      "| Deletion      | 0.207882  |\n",
      "| saliency_diff | 9.56763   |\n",
      "| shift_dist    | 6.17143   |\n"
     ]
    }
   ],
   "source": [
    "att = attack.FGSM(trainer.model, cuda)\n",
    "att_name = att.__class__.__name__\n",
    "att_kwargs = {'eps': 0.03}\n",
    "att_imgs, att_suc_cams, indices, metrics[att_name] \\\n",
    "    = test_advatt(att, att_kwargs = att_kwargs)\n",
    "print(tabulate(\n",
    "    list(metrics[att_name].items()), tablefmt ='orgtbl'\n",
    "))"
   ]
  },
  {
   "cell_type": "code",
   "execution_count": 53,
   "metadata": {},
   "outputs": [
    {
     "data": {
      "image/png": "[encoded data removed]",
      "text/plain": [
       "<Figure size 1200x300 with 4 Axes>"
      ]
     },
     "metadata": {},
     "output_type": "display_data"
    }
   ],
   "source": [
    "idx = 3\n",
    "plot_imgs(\n",
    "    suc_imgs[indices][idx], att_imgs[indices][idx], \n",
    "    suc_cams[indices][idx], att_suc_cams[idx]\n",
    ")"
   ]
  },
  {
   "attachments": {},
   "cell_type": "markdown",
   "metadata": {},
   "source": [
    "### FGM"
   ]
  },
  {
   "cell_type": "code",
   "execution_count": 54,
   "metadata": {},
   "outputs": [
    {
     "name": "stderr",
     "output_type": "stream",
     "text": [
      "100%|██████████| 95/95 [00:00<00:00, 134.47it/s]\n"
     ]
    },
    {
     "name": "stdout",
     "output_type": "stream",
     "text": [
      "| time          | 0.709311  |\n",
      "| success_rate  | 0.357895  |\n",
      "| delta_norm    | 0.0660786 |\n",
      "| Average Incr  | 0.352941  |\n",
      "| Average Drop  | 0.0485388 |\n",
      "| Insertion     | 0.358589  |\n",
      "| Deletion      | 0.196645  |\n",
      "| saliency_diff | 8.97405   |\n",
      "| shift_dist    | 5.97059   |\n"
     ]
    }
   ],
   "source": [
    "att = attack.FGM(trainer.model, cuda)\n",
    "att_name = att.__class__.__name__\n",
    "att_kwargs = {'eps': 0.8}\n",
    "att_imgs, att_suc_cams, indices, metrics[att_name] \\\n",
    "    = test_advatt(att, att_kwargs = att_kwargs)\n",
    "print(tabulate(\n",
    "    list(metrics[att_name].items()), tablefmt ='orgtbl'\n",
    "))"
   ]
  },
  {
   "cell_type": "code",
   "execution_count": 55,
   "metadata": {},
   "outputs": [
    {
     "data": {
      "image/png": "[encoded data removed]",
      "text/plain": [
       "<Figure size 1200x300 with 4 Axes>"
      ]
     },
     "metadata": {},
     "output_type": "display_data"
    }
   ],
   "source": [
    "idx = 3\n",
    "plot_imgs(\n",
    "    suc_imgs[indices][idx], att_imgs[indices][idx], \n",
    "    suc_cams[indices][idx], att_suc_cams[idx]\n",
    ")"
   ]
  },
  {
   "attachments": {},
   "cell_type": "markdown",
   "metadata": {},
   "source": [
    "### Step-LL"
   ]
  },
  {
   "cell_type": "code",
   "execution_count": 56,
   "metadata": {},
   "outputs": [
    {
     "name": "stderr",
     "output_type": "stream",
     "text": [
      "100%|██████████| 95/95 [00:01<00:00, 81.00it/s]\n"
     ]
    },
    {
     "name": "stdout",
     "output_type": "stream",
     "text": [
      "| time          | 1.17489   |\n",
      "| success_rate  | 0.347368  |\n",
      "| delta_norm    | 0.0775184 |\n",
      "| Average Incr  | 0.69697   |\n",
      "| Average Drop  | 0.0992594 |\n",
      "| Insertion     | 0.321354  |\n",
      "| Deletion      | 0.177695  |\n",
      "| saliency_diff | 9.34688   |\n",
      "| shift_dist    | 5.93939   |\n"
     ]
    }
   ],
   "source": [
    "att = attack.StepLL(trainer.model, cuda)\n",
    "att_name = att.__class__.__name__\n",
    "att_kwargs = {'eps': 0.035}\n",
    "att_imgs, att_suc_cams, indices, metrics[att_name] \\\n",
    "    = test_advatt(att, att_kwargs = att_kwargs)\n",
    "print(tabulate(\n",
    "    list(metrics[att_name].items()), tablefmt ='orgtbl'\n",
    "))"
   ]
  },
  {
   "cell_type": "code",
   "execution_count": 57,
   "metadata": {},
   "outputs": [
    {
     "data": {
      "image/png": "[encoded data removed]",
      "text/plain": [
       "<Figure size 1200x300 with 4 Axes>"
      ]
     },
     "metadata": {},
     "output_type": "display_data"
    }
   ],
   "source": [
    "idx = 3\n",
    "plot_imgs(\n",
    "    suc_imgs[indices][idx], att_imgs[indices][idx], \n",
    "    suc_cams[indices][idx], att_suc_cams[idx]\n",
    ")"
   ]
  },
  {
   "attachments": {},
   "cell_type": "markdown",
   "metadata": {},
   "source": [
    "### I-FGSM"
   ]
  },
  {
   "cell_type": "code",
   "execution_count": 58,
   "metadata": {},
   "outputs": [
    {
     "name": "stderr",
     "output_type": "stream",
     "text": [
      "100%|██████████| 95/95 [00:07<00:00, 12.73it/s]\n"
     ]
    },
    {
     "name": "stdout",
     "output_type": "stream",
     "text": [
      "| time          | 7.46714   |\n",
      "| success_rate  | 0.978947  |\n",
      "| delta_norm    | 0.0625902 |\n",
      "| Average Incr  | 0.0107527 |\n",
      "| Average Drop  | 0.311288  |\n",
      "| Insertion     | 0.461784  |\n",
      "| Deletion      | 0.254372  |\n",
      "| saliency_diff | 8.4473    |\n",
      "| shift_dist    | 5.17204   |\n"
     ]
    }
   ],
   "source": [
    "att = attack.IFGSM(trainer.model, cuda)\n",
    "att_name = att.__class__.__name__\n",
    "att_kwargs = {'eps': 0.015}\n",
    "att_imgs, att_suc_cams, indices, metrics[att_name] \\\n",
    "    = test_advatt(att, max_iter = 10, att_kwargs = att_kwargs)\n",
    "print(tabulate(\n",
    "    list(metrics[att_name].items()), tablefmt ='orgtbl'\n",
    "))"
   ]
  },
  {
   "cell_type": "code",
   "execution_count": 59,
   "metadata": {},
   "outputs": [
    {
     "data": {
      "image/png": "[encoded data removed]",
      "text/plain": [
       "<Figure size 1200x300 with 4 Axes>"
      ]
     },
     "metadata": {},
     "output_type": "display_data"
    }
   ],
   "source": [
    "idx = 3\n",
    "plot_imgs(\n",
    "    suc_imgs[indices][idx], att_imgs[indices][idx], \n",
    "    suc_cams[indices][idx], att_suc_cams[idx]\n",
    ")"
   ]
  },
  {
   "attachments": {},
   "cell_type": "markdown",
   "metadata": {},
   "source": [
    "### MI-FGSM"
   ]
  },
  {
   "cell_type": "code",
   "execution_count": 60,
   "metadata": {},
   "outputs": [
    {
     "name": "stderr",
     "output_type": "stream",
     "text": [
      "100%|██████████| 95/95 [00:07<00:00, 13.06it/s]\n"
     ]
    },
    {
     "name": "stdout",
     "output_type": "stream",
     "text": [
      "| time          | 7.27655   |\n",
      "| success_rate  | 0.989474  |\n",
      "| delta_norm    | 0.0637876 |\n",
      "| Average Incr  | 0         |\n",
      "| Average Drop  | 0.3122    |\n",
      "| Insertion     | 0.450331  |\n",
      "| Deletion      | 0.25922   |\n",
      "| saliency_diff | 8.48764   |\n",
      "| shift_dist    | 4.96809   |\n"
     ]
    }
   ],
   "source": [
    "att = attack.MIFGSM(trainer.model, cuda)\n",
    "att_name = att.__class__.__name__\n",
    "att_kwargs = {'eps': 0.015}\n",
    "att_imgs, att_suc_cams, indices, metrics[att_name] \\\n",
    "    = test_advatt(att, max_iter = 10, att_kwargs = att_kwargs)\n",
    "print(tabulate(\n",
    "    list(metrics[att_name].items()), tablefmt ='orgtbl'\n",
    "))"
   ]
  },
  {
   "cell_type": "code",
   "execution_count": 61,
   "metadata": {},
   "outputs": [
    {
     "data": {
      "image/png": "[encoded data removed]",
      "text/plain": [
       "<Figure size 1200x300 with 4 Axes>"
      ]
     },
     "metadata": {},
     "output_type": "display_data"
    }
   ],
   "source": [
    "idx = 3\n",
    "plot_imgs(\n",
    "    suc_imgs[indices][idx], att_imgs[indices][idx], \n",
    "    suc_cams[indices][idx], att_suc_cams[idx]\n",
    ")"
   ]
  },
  {
   "attachments": {},
   "cell_type": "markdown",
   "metadata": {},
   "source": [
    "### NIFGSM"
   ]
  },
  {
   "cell_type": "code",
   "execution_count": 62,
   "metadata": {},
   "outputs": [
    {
     "name": "stderr",
     "output_type": "stream",
     "text": [
      "100%|██████████| 95/95 [00:07<00:00, 12.93it/s]\n"
     ]
    },
    {
     "name": "stdout",
     "output_type": "stream",
     "text": [
      "| time          | 7.34929   |\n",
      "| success_rate  | 0.989474  |\n",
      "| delta_norm    | 0.0637837 |\n",
      "| Average Incr  | 0.0106383 |\n",
      "| Average Drop  | 0.305618  |\n",
      "| Insertion     | 0.459376  |\n",
      "| Deletion      | 0.258114  |\n",
      "| saliency_diff | 8.61229   |\n",
      "| shift_dist    | 5.19149   |\n"
     ]
    }
   ],
   "source": [
    "att = attack.NIFGSM(trainer.model, cuda)\n",
    "att_name = att.__class__.__name__\n",
    "att_kwargs = {'eps': 0.015}\n",
    "att_imgs, att_suc_cams, indices, metrics[att_name] \\\n",
    "    = test_advatt(att, max_iter = 10, att_kwargs = att_kwargs)\n",
    "print(tabulate(\n",
    "    list(metrics[att_name].items()), tablefmt ='orgtbl'\n",
    "))"
   ]
  },
  {
   "cell_type": "code",
   "execution_count": 63,
   "metadata": {},
   "outputs": [
    {
     "data": {
      "image/png": "[encoded data removed]",
      "text/plain": [
       "<Figure size 1200x300 with 4 Axes>"
      ]
     },
     "metadata": {},
     "output_type": "display_data"
    }
   ],
   "source": [
    "idx = 3\n",
    "plot_imgs(\n",
    "    suc_imgs[indices][idx], att_imgs[indices][idx], \n",
    "    suc_cams[indices][idx], att_suc_cams[idx]\n",
    ")"
   ]
  },
  {
   "attachments": {},
   "cell_type": "markdown",
   "metadata": {},
   "source": [
    "### PGD"
   ]
  },
  {
   "cell_type": "code",
   "execution_count": 64,
   "metadata": {},
   "outputs": [
    {
     "name": "stderr",
     "output_type": "stream",
     "text": [
      "100%|██████████| 95/95 [00:07<00:00, 12.54it/s]\n"
     ]
    },
    {
     "name": "stdout",
     "output_type": "stream",
     "text": [
      "| time          | 7.57641   |\n",
      "| success_rate  | 1         |\n",
      "| delta_norm    | 0.0636266 |\n",
      "| Average Incr  | 0.0210526 |\n",
      "| Average Drop  | 0.313847  |\n",
      "| Insertion     | 0.44742   |\n",
      "| Deletion      | 0.264341  |\n",
      "| saliency_diff | 8.17184   |\n",
      "| shift_dist    | 5.15789   |\n"
     ]
    }
   ],
   "source": [
    "att = attack.PGD(trainer.model, cuda)\n",
    "att_name = att.__class__.__name__\n",
    "att_kwargs = {'eps': 0.035}\n",
    "att_imgs, att_suc_cams, indices, metrics[att_name] \\\n",
    "    = test_advatt(att, max_iter = 10, att_kwargs = att_kwargs)\n",
    "print(tabulate(\n",
    "    list(metrics[att_name].items()), tablefmt ='orgtbl'\n",
    "))"
   ]
  },
  {
   "cell_type": "code",
   "execution_count": 65,
   "metadata": {},
   "outputs": [
    {
     "data": {
      "image/png": "[encoded data removed]",
      "text/plain": [
       "<Figure size 1200x300 with 4 Axes>"
      ]
     },
     "metadata": {},
     "output_type": "display_data"
    }
   ],
   "source": [
    "idx = 3\n",
    "plot_imgs(\n",
    "    suc_imgs[indices][idx], att_imgs[indices][idx], \n",
    "    suc_cams[indices][idx], att_suc_cams[idx]\n",
    ")"
   ]
  },
  {
   "attachments": {},
   "cell_type": "markdown",
   "metadata": {},
   "source": [
    "## IterLL"
   ]
  },
  {
   "cell_type": "code",
   "execution_count": 66,
   "metadata": {},
   "outputs": [
    {
     "name": "stderr",
     "output_type": "stream",
     "text": [
      "100%|██████████| 95/95 [00:07<00:00, 12.11it/s]\n"
     ]
    },
    {
     "name": "stdout",
     "output_type": "stream",
     "text": [
      "| time          | 7.8492    |\n",
      "| success_rate  | 0.778947  |\n",
      "| delta_norm    | 0.0503917 |\n",
      "| Average Incr  | 0.148649  |\n",
      "| Average Drop  | 0.598824  |\n",
      "| Insertion     | 0.311466  |\n",
      "| Deletion      | 0.098884  |\n",
      "| saliency_diff | 9.43601   |\n",
      "| shift_dist    | 5.75676   |\n"
     ]
    }
   ],
   "source": [
    "att = attack.IterLL(trainer.model, cuda)\n",
    "att_name = att.__class__.__name__\n",
    "att_kwargs = {'eps': 0.012}\n",
    "att_imgs, att_suc_cams, indices, metrics[att_name] \\\n",
    "    = test_advatt(att, max_iter = 10, att_kwargs = att_kwargs)\n",
    "print(tabulate(\n",
    "    list(metrics[att_name].items()), tablefmt ='orgtbl'\n",
    "))"
   ]
  },
  {
   "cell_type": "code",
   "execution_count": 67,
   "metadata": {},
   "outputs": [
    {
     "data": {
      "image/png": "[encoded data removed]",
      "text/plain": [
       "<Figure size 1200x300 with 4 Axes>"
      ]
     },
     "metadata": {},
     "output_type": "display_data"
    }
   ],
   "source": [
    "idx = 3\n",
    "plot_imgs(\n",
    "    suc_imgs[indices][idx], att_imgs[indices][idx], \n",
    "    suc_cams[indices][idx], att_suc_cams[idx]\n",
    ")"
   ]
  },
  {
   "attachments": {},
   "cell_type": "markdown",
   "metadata": {},
   "source": [
    "### Deep Fool"
   ]
  },
  {
   "cell_type": "code",
   "execution_count": 68,
   "metadata": {},
   "outputs": [
    {
     "name": "stderr",
     "output_type": "stream",
     "text": [
      "100%|██████████| 95/95 [00:05<00:00, 16.62it/s]\n"
     ]
    },
    {
     "name": "stdout",
     "output_type": "stream",
     "text": [
      "| time          | 5.71752  |\n",
      "| success_rate  | 1        |\n",
      "| delta_norm    | 0.632254 |\n",
      "| Average Incr  | 0.473684 |\n",
      "| Average Drop  | 0.104936 |\n",
      "| Insertion     | 0.265757 |\n",
      "| Deletion      | 0.266584 |\n",
      "| saliency_diff | 8.36514  |\n",
      "| shift_dist    | 6.70526  |\n"
     ]
    }
   ],
   "source": [
    "att = attack.DeepFool(trainer.model, cuda)\n",
    "att_name = att.__class__.__name__\n",
    "att_imgs, att_suc_cams, indices, metrics[att_name] \\\n",
    "    = test_advatt(att, max_iter = 10)\n",
    "print(tabulate(\n",
    "    list(metrics[att_name].items()), tablefmt ='orgtbl'\n",
    "))"
   ]
  },
  {
   "cell_type": "code",
   "execution_count": 69,
   "metadata": {},
   "outputs": [
    {
     "data": {
      "image/png": "[encoded data removed]",
      "text/plain": [
       "<Figure size 1200x300 with 4 Axes>"
      ]
     },
     "metadata": {},
     "output_type": "display_data"
    }
   ],
   "source": [
    "idx = 3\n",
    "plot_imgs(\n",
    "    suc_imgs[indices][idx], att_imgs[indices][idx], \n",
    "    suc_cams[indices][idx], att_suc_cams[idx]\n",
    ")"
   ]
  },
  {
   "attachments": {},
   "cell_type": "markdown",
   "metadata": {},
   "source": [
    "### L-BFGS"
   ]
  },
  {
   "cell_type": "code",
   "execution_count": 70,
   "metadata": {},
   "outputs": [
    {
     "name": "stderr",
     "output_type": "stream",
     "text": [
      "100%|██████████| 95/95 [02:45<00:00,  1.74s/it]\n"
     ]
    },
    {
     "name": "stdout",
     "output_type": "stream",
     "text": [
      "| time          | 165.203     |\n",
      "| success_rate  |   1         |\n",
      "| delta_norm    |   0.0362659 |\n",
      "| Average Incr  |   0.031579  |\n",
      "| Average Drop  |   0.612864  |\n",
      "| Insertion     |   0.398909  |\n",
      "| Deletion      |   0.0816381 |\n",
      "| saliency_diff |  11.1218    |\n",
      "| shift_dist    |   7.95789   |\n"
     ]
    }
   ],
   "source": [
    "att = attack.LBFGS(trainer.model, cuda)\n",
    "att_name = att.__class__.__name__\n",
    "att_kwargs = {'c': 0.05}\n",
    "att_imgs, att_suc_cams, indices, metrics[att_name] \\\n",
    "    = test_advatt(att, max_iter = 100)\n",
    "print(tabulate(\n",
    "    list(metrics[att_name].items()), tablefmt ='orgtbl'\n",
    "))"
   ]
  },
  {
   "cell_type": "code",
   "execution_count": 71,
   "metadata": {},
   "outputs": [
    {
     "data": {
      "text/html": [
       "<div>\n",
       "<style scoped>\n",
       "    .dataframe tbody tr th:only-of-type {\n",
       "        vertical-align: middle;\n",
       "    }\n",
       "\n",
       "    .dataframe tbody tr th {\n",
       "        vertical-align: top;\n",
       "    }\n",
       "\n",
       "    .dataframe thead th {\n",
       "        text-align: right;\n",
       "    }\n",
       "</style>\n",
       "<table border=\"1\" class=\"dataframe\">\n",
       "  <thead>\n",
       "    <tr style=\"text-align: right;\">\n",
       "      <th></th>\n",
       "      <th>Raw</th>\n",
       "      <th>FGSM</th>\n",
       "      <th>FGM</th>\n",
       "      <th>StepLL</th>\n",
       "      <th>IFGSM</th>\n",
       "      <th>MIFGSM</th>\n",
       "      <th>NIFGSM</th>\n",
       "      <th>PGD</th>\n",
       "      <th>IterLL</th>\n",
       "      <th>DeepFool</th>\n",
       "      <th>LBFGS</th>\n",
       "    </tr>\n",
       "  </thead>\n",
       "  <tbody>\n",
       "    <tr>\n",
       "      <th>time</th>\n",
       "      <td>0.000000</td>\n",
       "      <td>0.765623</td>\n",
       "      <td>0.709311</td>\n",
       "      <td>1.174890</td>\n",
       "      <td>7.467139</td>\n",
       "      <td>7.276545</td>\n",
       "      <td>7.349291</td>\n",
       "      <td>7.576406</td>\n",
       "      <td>7.849200</td>\n",
       "      <td>5.717517</td>\n",
       "      <td>165.202598</td>\n",
       "    </tr>\n",
       "    <tr>\n",
       "      <th>success_rate</th>\n",
       "      <td>1.000000</td>\n",
       "      <td>0.368421</td>\n",
       "      <td>0.357895</td>\n",
       "      <td>0.347368</td>\n",
       "      <td>0.978947</td>\n",
       "      <td>0.989474</td>\n",
       "      <td>0.989474</td>\n",
       "      <td>1.000000</td>\n",
       "      <td>0.778947</td>\n",
       "      <td>1.000000</td>\n",
       "      <td>1.000000</td>\n",
       "    </tr>\n",
       "    <tr>\n",
       "      <th>delta_norm</th>\n",
       "      <td>0.000000</td>\n",
       "      <td>0.066413</td>\n",
       "      <td>0.066079</td>\n",
       "      <td>0.077518</td>\n",
       "      <td>0.062590</td>\n",
       "      <td>0.063788</td>\n",
       "      <td>0.063784</td>\n",
       "      <td>0.063627</td>\n",
       "      <td>0.050392</td>\n",
       "      <td>0.632254</td>\n",
       "      <td>0.036266</td>\n",
       "    </tr>\n",
       "    <tr>\n",
       "      <th>Average Incr</th>\n",
       "      <td>0.315789</td>\n",
       "      <td>0.400000</td>\n",
       "      <td>0.352941</td>\n",
       "      <td>0.696970</td>\n",
       "      <td>0.010753</td>\n",
       "      <td>0.000000</td>\n",
       "      <td>0.010638</td>\n",
       "      <td>0.021053</td>\n",
       "      <td>0.148649</td>\n",
       "      <td>0.473684</td>\n",
       "      <td>0.031579</td>\n",
       "    </tr>\n",
       "    <tr>\n",
       "      <th>Average Drop</th>\n",
       "      <td>0.000228</td>\n",
       "      <td>0.067234</td>\n",
       "      <td>0.048539</td>\n",
       "      <td>0.099259</td>\n",
       "      <td>0.311288</td>\n",
       "      <td>0.312200</td>\n",
       "      <td>0.305618</td>\n",
       "      <td>0.313847</td>\n",
       "      <td>0.598824</td>\n",
       "      <td>0.104936</td>\n",
       "      <td>0.612864</td>\n",
       "    </tr>\n",
       "    <tr>\n",
       "      <th>Insertion</th>\n",
       "      <td>0.595607</td>\n",
       "      <td>0.402334</td>\n",
       "      <td>0.358589</td>\n",
       "      <td>0.321354</td>\n",
       "      <td>0.461784</td>\n",
       "      <td>0.450331</td>\n",
       "      <td>0.459376</td>\n",
       "      <td>0.447420</td>\n",
       "      <td>0.311466</td>\n",
       "      <td>0.265757</td>\n",
       "      <td>0.398909</td>\n",
       "    </tr>\n",
       "    <tr>\n",
       "      <th>Deletion</th>\n",
       "      <td>0.375929</td>\n",
       "      <td>0.207882</td>\n",
       "      <td>0.196645</td>\n",
       "      <td>0.177695</td>\n",
       "      <td>0.254372</td>\n",
       "      <td>0.259220</td>\n",
       "      <td>0.258114</td>\n",
       "      <td>0.264341</td>\n",
       "      <td>0.098884</td>\n",
       "      <td>0.266584</td>\n",
       "      <td>0.081638</td>\n",
       "    </tr>\n",
       "    <tr>\n",
       "      <th>saliency_diff</th>\n",
       "      <td>0.000000</td>\n",
       "      <td>9.567628</td>\n",
       "      <td>8.974048</td>\n",
       "      <td>9.346878</td>\n",
       "      <td>8.447305</td>\n",
       "      <td>8.487643</td>\n",
       "      <td>8.612288</td>\n",
       "      <td>8.171844</td>\n",
       "      <td>9.436007</td>\n",
       "      <td>8.365138</td>\n",
       "      <td>11.121839</td>\n",
       "    </tr>\n",
       "    <tr>\n",
       "      <th>shift_dist</th>\n",
       "      <td>0.000000</td>\n",
       "      <td>6.171429</td>\n",
       "      <td>5.970588</td>\n",
       "      <td>5.939394</td>\n",
       "      <td>5.172043</td>\n",
       "      <td>4.968085</td>\n",
       "      <td>5.191489</td>\n",
       "      <td>5.157895</td>\n",
       "      <td>5.756757</td>\n",
       "      <td>6.705263</td>\n",
       "      <td>7.957895</td>\n",
       "    </tr>\n",
       "  </tbody>\n",
       "</table>\n",
       "</div>"
      ],
      "text/plain": [
       "                    Raw      FGSM       FGM    StepLL     IFGSM    MIFGSM  \\\n",
       "time           0.000000  0.765623  0.709311  1.174890  7.467139  7.276545   \n",
       "success_rate   1.000000  0.368421  0.357895  0.347368  0.978947  0.989474   \n",
       "delta_norm     0.000000  0.066413  0.066079  0.077518  0.062590  0.063788   \n",
       "Average Incr   0.315789  0.400000  0.352941  0.696970  0.010753  0.000000   \n",
       "Average Drop   0.000228  0.067234  0.048539  0.099259  0.311288  0.312200   \n",
       "Insertion      0.595607  0.402334  0.358589  0.321354  0.461784  0.450331   \n",
       "Deletion       0.375929  0.207882  0.196645  0.177695  0.254372  0.259220   \n",
       "saliency_diff  0.000000  9.567628  8.974048  9.346878  8.447305  8.487643   \n",
       "shift_dist     0.000000  6.171429  5.970588  5.939394  5.172043  4.968085   \n",
       "\n",
       "                 NIFGSM       PGD    IterLL  DeepFool       LBFGS  \n",
       "time           7.349291  7.576406  7.849200  5.717517  165.202598  \n",
       "success_rate   0.989474  1.000000  0.778947  1.000000    1.000000  \n",
       "delta_norm     0.063784  0.063627  0.050392  0.632254    0.036266  \n",
       "Average Incr   0.010638  0.021053  0.148649  0.473684    0.031579  \n",
       "Average Drop   0.305618  0.313847  0.598824  0.104936    0.612864  \n",
       "Insertion      0.459376  0.447420  0.311466  0.265757    0.398909  \n",
       "Deletion       0.258114  0.264341  0.098884  0.266584    0.081638  \n",
       "saliency_diff  8.612288  8.171844  9.436007  8.365138   11.121839  \n",
       "shift_dist     5.191489  5.157895  5.756757  6.705263    7.957895  "
      ]
     },
     "execution_count": 71,
     "metadata": {},
     "output_type": "execute_result"
    }
   ],
   "source": [
    "metrics_df = pd.DataFrame(metrics)\n",
    "metrics_df.to_csv(metric_pth + f'Attack-{model_mode}-{dataset}-seed{seed}.csv')\n",
    "metrics_df"
   ]
  }
 ],
 "metadata": {
  "kernelspec": {
   "display_name": "AA",
   "language": "python",
   "name": "python3"
  },
  "language_info": {
   "codemirror_mode": {
    "name": "ipython",
    "version": 3
   },
   "file_extension": ".py",
   "mimetype": "text/x-python",
   "name": "python",
   "nbconvert_exporter": "python",
   "pygments_lexer": "ipython3",
   "version": "3.10.8"
  },
  "orig_nbformat": 4
 },
 "nbformat": 4,
 "nbformat_minor": 2
}
