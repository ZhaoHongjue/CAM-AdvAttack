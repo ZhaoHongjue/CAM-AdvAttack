{
 "cells": [
  {
   "cell_type": "code",
   "execution_count": 78,
   "metadata": {},
   "outputs": [],
   "source": [
    "import torch\n",
    "from torch import nn\n",
    "from torch.nn import functional as F\n",
    "\n",
    "import numpy as np\n",
    "import matplotlib.pyplot as plt\n",
    "import pandas as pd\n",
    "\n",
    "import time\n",
    "from tabulate import tabulate\n",
    "\n",
    "\n",
    "from trainer import Trainer, generate_data_iter\n",
    "import utils\n",
    "import attack\n",
    "import cam"
   ]
  },
  {
   "cell_type": "code",
   "execution_count": 79,
   "metadata": {},
   "outputs": [
    {
     "name": "stdout",
     "output_type": "stream",
     "text": [
      "| time          | 0         |\n",
      "| success_rate  | 1         |\n",
      "| delta_norm    | 0         |\n",
      "| Average Incr  | 0.327225  |\n",
      "| Average Drop  | 0.0066161 |\n",
      "| Insertion     | 0.58016   |\n",
      "| Deletion      | 0.370621  |\n",
      "| saliency_diff | 0         |\n",
      "| shift_dist    | 0         |\n"
     ]
    }
   ],
   "source": [
    "model_mode, dataset, seed, cuda = 'resnet18', 'FashionMNIST', 2, 0\n",
    "target_layer = 'layer4' if model_mode == 'resnet18' else 'blocks'\n",
    "fig_num = 400\n",
    "metrics = {}\n",
    "\n",
    "utils.set_random_seed(seed)\n",
    "trainer = Trainer(\n",
    "    model_mode = model_mode,\n",
    "    dataset = dataset,\n",
    "    bs = 128,\n",
    "    lr = 0.01,\n",
    "    seed = seed,\n",
    "    cuda = cuda,\n",
    "    use_lr_sche = True,\n",
    "    use_wandb = False,\n",
    ")\n",
    "trainer.load()\n",
    "scorecam = cam.ScoreCAM(trainer.model, dataset, target_layer, cuda = cuda)\n",
    "\n",
    "# Generate Test data\n",
    "test_iter = generate_data_iter(dataset, batch_size = fig_num, mode = 'test')\n",
    "imgs, labels = next(iter(test_iter))\n",
    "raw_cam_nps, raw_preds, _, __ = scorecam(imgs, metric = False)\n",
    "\n",
    "# Extract Successful Results\n",
    "suc_indices = raw_preds == labels\n",
    "suc_imgs, suc_labels = imgs[suc_indices], labels[suc_indices]\n",
    "suc_cams, suc_saliency_maps, suc_preds, suc_probs, suc_cam_metrics \\\n",
    "    = scorecam(suc_imgs, metric = True, saliency = True)\n",
    "\n",
    "\n",
    "metrics['Raw'] = {\n",
    "    'time': 0,\n",
    "    'success_rate': 1,\n",
    "    'delta_norm': 0,\n",
    "    'Average Incr': suc_cam_metrics['Average Incr'], \n",
    "    'Average Drop': suc_cam_metrics['Average Drop'],\n",
    "    'Insertion':  suc_cam_metrics['Insertion'], \n",
    "    'Deletion': suc_cam_metrics['Deletion'],\n",
    "    'saliency_diff': 0,\n",
    "    'shift_dist': 0\n",
    "}\n",
    "print(tabulate(\n",
    "    list(metrics['Raw'].items()), tablefmt ='orgtbl'\n",
    "))"
   ]
  },
  {
   "cell_type": "code",
   "execution_count": 80,
   "metadata": {},
   "outputs": [],
   "source": [
    "def test_advatt(att, max_iter: int = None, att_kwargs: dict = {}):\n",
    "    start = time.time()\n",
    "    att_imgs = att(\n",
    "        suc_imgs, suc_labels, max_iter = max_iter, \n",
    "        num_classes = 10, attack_kwargs = att_kwargs\n",
    "    )\n",
    "    finish = time.time()\n",
    "    deltas = att_imgs - suc_imgs\n",
    "    \n",
    "    att_preds, _ = scorecam.model_predict(scorecam.tfm(att_imgs))\n",
    "    \n",
    "    # Success Rate\n",
    "    indices = att_preds != suc_labels\n",
    "    success_rate = indices.sum() / len(att_preds)\n",
    "\n",
    "    # delta norm\n",
    "    delta_norm = torch.mean(\n",
    "        torch.linalg.norm(deltas.reshape(len(deltas), -1), dim = 1) \\\n",
    "            / torch.linalg.norm(suc_imgs.reshape(len(deltas), -1), dim = 1)\n",
    "    )\n",
    "    \n",
    "    # In cam part, we only focus on successful part\n",
    "    att_suc_cams, att_suc_saliency, _, __, att_suc_cam_metrics \\\n",
    "        = scorecam(att_imgs[indices], metric = True, saliency = True)\n",
    "\n",
    "    # delta saliency map norm\n",
    "    saliency_diff = np.linalg.norm(\n",
    "        att_suc_saliency - suc_saliency_maps[indices.numpy()],\n",
    "        axis = (1, 2)\n",
    "    ).mean()\n",
    "\n",
    "    # maximum shift\n",
    "    size = imgs.shape[-1]\n",
    "    suc_max_idx_raw = np.argmax(\n",
    "        suc_saliency_maps[indices.numpy()].reshape(indices.sum(), -1), axis = 1\n",
    "    )\n",
    "    suc_max_x, suc_max_y = suc_max_idx_raw // size, suc_max_idx_raw % size\n",
    "\n",
    "    att_max_idx_raw = np.argmax(att_suc_saliency.reshape(len(att_suc_saliency), -1), axis = 1)\n",
    "    att_max_x, att_max_y = att_max_idx_raw // size, suc_max_idx_raw % size\n",
    "    shift_dist = np.sqrt((att_max_x - suc_max_x)**2 + (att_max_y - suc_max_y)**2).mean()\n",
    "    \n",
    "    metrics = {\n",
    "        'time': finish - start,\n",
    "        'success_rate': success_rate.item(),\n",
    "        'delta_norm': delta_norm.item(),\n",
    "        'Average Incr': att_suc_cam_metrics['Average Incr'], \n",
    "        'Average Drop': att_suc_cam_metrics['Average Drop'],\n",
    "        'Insertion':  att_suc_cam_metrics['Insertion'], \n",
    "        'Deletion': att_suc_cam_metrics['Deletion'],\n",
    "        'saliency_diff': saliency_diff,\n",
    "        'shift_dist': shift_dist\n",
    "    }\n",
    "    return att_imgs, att_suc_cams, indices.numpy(), metrics\n",
    "\n",
    "def plot_imgs(\n",
    "    raw_img: torch.Tensor,\n",
    "    att_img: torch.Tensor,\n",
    "    suc_cam: np.ndarray,\n",
    "    att_cam: np.ndarray\n",
    "):\n",
    "    fig = plt.figure(figsize = (12, 3))\n",
    "    plt.subplot(1, 4, 1)\n",
    "    plt.imshow(np.transpose(raw_img.numpy(), (1, 2, 0)))\n",
    "    plt.title('Raw')\n",
    "    plt.axis('off')\n",
    "    \n",
    "    plt.subplot(1, 4, 2)\n",
    "    plt.imshow(np.transpose(att_img.numpy(), (1, 2, 0)))\n",
    "    plt.title('Attack')\n",
    "    plt.axis('off')\n",
    "    \n",
    "    plt.subplot(1, 4, 3)\n",
    "    plt.imshow(suc_cam)\n",
    "    plt.axis('off')\n",
    "    \n",
    "    plt.subplot(1, 4, 4)\n",
    "    plt.imshow(att_cam)\n",
    "    plt.axis('off')"
   ]
  },
  {
   "attachments": {},
   "cell_type": "markdown",
   "metadata": {},
   "source": [
    "### FGSM"
   ]
  },
  {
   "cell_type": "code",
   "execution_count": 81,
   "metadata": {},
   "outputs": [
    {
     "name": "stderr",
     "output_type": "stream",
     "text": [
      "100%|██████████| 382/382 [00:05<00:00, 75.33it/s]\n"
     ]
    },
    {
     "name": "stdout",
     "output_type": "stream",
     "text": [
      "| time          | 5.07373   |\n",
      "| success_rate  | 0.363874  |\n",
      "| delta_norm    | 0.0651734 |\n",
      "| Average Incr  | 0.460432  |\n",
      "| Average Drop  | 0.0988808 |\n",
      "| Insertion     | 0.408656  |\n",
      "| Deletion      | 0.208879  |\n",
      "| saliency_diff | 9.10346   |\n",
      "| shift_dist    | 5.78417   |\n"
     ]
    }
   ],
   "source": [
    "att = attack.FGSM(trainer.model, cuda)\n",
    "att_name = att.__class__.__name__\n",
    "att_kwargs = {'eps': 0.03}\n",
    "att_imgs, att_suc_cams, indices, metrics[att_name] \\\n",
    "    = test_advatt(att, att_kwargs = att_kwargs)\n",
    "print(tabulate(\n",
    "    list(metrics[att_name].items()), tablefmt ='orgtbl'\n",
    "))"
   ]
  },
  {
   "cell_type": "code",
   "execution_count": 82,
   "metadata": {},
   "outputs": [
    {
     "data": {
      "image/png": "[encoded data removed]",
      "text/plain": [
       "<Figure size 1200x300 with 4 Axes>"
      ]
     },
     "metadata": {},
     "output_type": "display_data"
    }
   ],
   "source": [
    "idx = 3\n",
    "plot_imgs(\n",
    "    suc_imgs[indices][idx], att_imgs[indices][idx], \n",
    "    suc_cams[indices][idx], att_suc_cams[idx]\n",
    ")"
   ]
  },
  {
   "attachments": {},
   "cell_type": "markdown",
   "metadata": {},
   "source": [
    "### FGM"
   ]
  },
  {
   "cell_type": "code",
   "execution_count": 83,
   "metadata": {},
   "outputs": [
    {
     "name": "stderr",
     "output_type": "stream",
     "text": [
      "100%|██████████| 382/382 [00:05<00:00, 75.99it/s]\n"
     ]
    },
    {
     "name": "stdout",
     "output_type": "stream",
     "text": [
      "| time          | 5.02946   |\n",
      "| success_rate  | 0.340314  |\n",
      "| delta_norm    | 0.0649621 |\n",
      "| Average Incr  | 0.461538  |\n",
      "| Average Drop  | 0.0772269 |\n",
      "| Insertion     | 0.374731  |\n",
      "| Deletion      | 0.19581   |\n",
      "| saliency_diff | 8.70705   |\n",
      "| shift_dist    | 5.23077   |\n"
     ]
    }
   ],
   "source": [
    "att = attack.FGM(trainer.model, cuda)\n",
    "att_name = att.__class__.__name__\n",
    "att_kwargs = {'eps': 0.8}\n",
    "att_imgs, att_suc_cams, indices, metrics[att_name] \\\n",
    "    = test_advatt(att, att_kwargs = att_kwargs)\n",
    "print(tabulate(\n",
    "    list(metrics[att_name].items()), tablefmt ='orgtbl'\n",
    "))"
   ]
  },
  {
   "cell_type": "code",
   "execution_count": 84,
   "metadata": {},
   "outputs": [
    {
     "data": {
      "image/png": "[encoded data removed]",
      "text/plain": [
       "<Figure size 1200x300 with 4 Axes>"
      ]
     },
     "metadata": {},
     "output_type": "display_data"
    }
   ],
   "source": [
    "idx = 3\n",
    "plot_imgs(\n",
    "    suc_imgs[indices][idx], att_imgs[indices][idx], \n",
    "    suc_cams[indices][idx], att_suc_cams[idx]\n",
    ")"
   ]
  },
  {
   "attachments": {},
   "cell_type": "markdown",
   "metadata": {},
   "source": [
    "### Step-LL"
   ]
  },
  {
   "cell_type": "code",
   "execution_count": 85,
   "metadata": {},
   "outputs": [
    {
     "name": "stderr",
     "output_type": "stream",
     "text": [
      "100%|██████████| 382/382 [00:06<00:00, 54.92it/s]\n"
     ]
    },
    {
     "name": "stdout",
     "output_type": "stream",
     "text": [
      "| time          | 6.96198   |\n",
      "| success_rate  | 0.337696  |\n",
      "| delta_norm    | 0.0760705 |\n",
      "| Average Incr  | 0.627907  |\n",
      "| Average Drop  | 0.13803   |\n",
      "| Insertion     | 0.30253   |\n",
      "| Deletion      | 0.163678  |\n",
      "| saliency_diff | 9.10319   |\n",
      "| shift_dist    | 6.08527   |\n"
     ]
    }
   ],
   "source": [
    "att = attack.StepLL(trainer.model, cuda)\n",
    "att_name = att.__class__.__name__\n",
    "att_kwargs = {'eps': 0.035}\n",
    "att_imgs, att_suc_cams, indices, metrics[att_name] \\\n",
    "    = test_advatt(att, att_kwargs = att_kwargs)\n",
    "print(tabulate(\n",
    "    list(metrics[att_name].items()), tablefmt ='orgtbl'\n",
    "))"
   ]
  },
  {
   "cell_type": "code",
   "execution_count": 86,
   "metadata": {},
   "outputs": [
    {
     "data": {
      "image/png": "[encoded data removed]",
      "text/plain": [
       "<Figure size 1200x300 with 4 Axes>"
      ]
     },
     "metadata": {},
     "output_type": "display_data"
    }
   ],
   "source": [
    "idx = 3\n",
    "plot_imgs(\n",
    "    suc_imgs[indices][idx], att_imgs[indices][idx], \n",
    "    suc_cams[indices][idx], att_suc_cams[idx]\n",
    ")"
   ]
  },
  {
   "attachments": {},
   "cell_type": "markdown",
   "metadata": {},
   "source": [
    "### I-FGSM"
   ]
  },
  {
   "cell_type": "code",
   "execution_count": 87,
   "metadata": {},
   "outputs": [
    {
     "name": "stderr",
     "output_type": "stream",
     "text": [
      "100%|██████████| 382/382 [00:48<00:00,  7.82it/s]\n"
     ]
    },
    {
     "name": "stdout",
     "output_type": "stream",
     "text": [
      "| time          | 48.856     |\n",
      "| success_rate  |  0.979058  |\n",
      "| delta_norm    |  0.0615096 |\n",
      "| Average Incr  |  0.0187166 |\n",
      "| Average Drop  |  0.28942   |\n",
      "| Insertion     |  0.484714  |\n",
      "| Deletion      |  0.253569  |\n",
      "| saliency_diff |  8.43971   |\n",
      "| shift_dist    |  5.37433   |\n"
     ]
    }
   ],
   "source": [
    "att = attack.IFGSM(trainer.model, cuda)\n",
    "att_name = att.__class__.__name__\n",
    "att_kwargs = {'eps': 0.015}\n",
    "att_imgs, att_suc_cams, indices, metrics[att_name] \\\n",
    "    = test_advatt(att, max_iter = 10, att_kwargs = att_kwargs)\n",
    "print(tabulate(\n",
    "    list(metrics[att_name].items()), tablefmt ='orgtbl'\n",
    "))"
   ]
  },
  {
   "cell_type": "code",
   "execution_count": 88,
   "metadata": {},
   "outputs": [
    {
     "data": {
      "image/png": "[encoded data removed]",
      "text/plain": [
       "<Figure size 1200x300 with 4 Axes>"
      ]
     },
     "metadata": {},
     "output_type": "display_data"
    }
   ],
   "source": [
    "idx = 3\n",
    "plot_imgs(\n",
    "    suc_imgs[indices][idx], att_imgs[indices][idx], \n",
    "    suc_cams[indices][idx], att_suc_cams[idx]\n",
    ")"
   ]
  },
  {
   "attachments": {},
   "cell_type": "markdown",
   "metadata": {},
   "source": [
    "### MI-FGSM"
   ]
  },
  {
   "cell_type": "code",
   "execution_count": 89,
   "metadata": {},
   "outputs": [
    {
     "name": "stderr",
     "output_type": "stream",
     "text": [
      "100%|██████████| 382/382 [00:56<00:00,  6.77it/s]\n"
     ]
    },
    {
     "name": "stdout",
     "output_type": "stream",
     "text": [
      "| time          | 56.4339    |\n",
      "| success_rate  |  0.984293  |\n",
      "| delta_norm    |  0.0626029 |\n",
      "| Average Incr  |  0.0132979 |\n",
      "| Average Drop  |  0.283455  |\n",
      "| Insertion     |  0.478852  |\n",
      "| Deletion      |  0.256112  |\n",
      "| saliency_diff |  8.44555   |\n",
      "| shift_dist    |  5.30319   |\n"
     ]
    }
   ],
   "source": [
    "att = attack.MIFGSM(trainer.model, cuda)\n",
    "att_name = att.__class__.__name__\n",
    "att_kwargs = {'eps': 0.015}\n",
    "att_imgs, att_suc_cams, indices, metrics[att_name] \\\n",
    "    = test_advatt(att, max_iter = 10, att_kwargs = att_kwargs)\n",
    "print(tabulate(\n",
    "    list(metrics[att_name].items()), tablefmt ='orgtbl'\n",
    "))"
   ]
  },
  {
   "cell_type": "code",
   "execution_count": 90,
   "metadata": {},
   "outputs": [
    {
     "data": {
      "image/png": "[encoded data removed]",
      "text/plain": [
       "<Figure size 1200x300 with 4 Axes>"
      ]
     },
     "metadata": {},
     "output_type": "display_data"
    }
   ],
   "source": [
    "idx = 3\n",
    "plot_imgs(\n",
    "    suc_imgs[indices][idx], att_imgs[indices][idx], \n",
    "    suc_cams[indices][idx], att_suc_cams[idx]\n",
    ")"
   ]
  },
  {
   "attachments": {},
   "cell_type": "markdown",
   "metadata": {},
   "source": [
    "### NIFGSM"
   ]
  },
  {
   "cell_type": "code",
   "execution_count": 91,
   "metadata": {},
   "outputs": [
    {
     "name": "stderr",
     "output_type": "stream",
     "text": [
      "100%|██████████| 382/382 [00:48<00:00,  7.92it/s]\n"
     ]
    },
    {
     "name": "stdout",
     "output_type": "stream",
     "text": [
      "| time          | 48.2666    |\n",
      "| success_rate  |  0.984293  |\n",
      "| delta_norm    |  0.0625924 |\n",
      "| Average Incr  |  0.0159574 |\n",
      "| Average Drop  |  0.285937  |\n",
      "| Insertion     |  0.481862  |\n",
      "| Deletion      |  0.254364  |\n",
      "| saliency_diff |  8.48929   |\n",
      "| shift_dist    |  5.39894   |\n"
     ]
    }
   ],
   "source": [
    "att = attack.NIFGSM(trainer.model, cuda)\n",
    "att_name = att.__class__.__name__\n",
    "att_kwargs = {'eps': 0.015}\n",
    "att_imgs, att_suc_cams, indices, metrics[att_name] \\\n",
    "    = test_advatt(att, max_iter = 10, att_kwargs = att_kwargs)\n",
    "print(tabulate(\n",
    "    list(metrics[att_name].items()), tablefmt ='orgtbl'\n",
    "))"
   ]
  },
  {
   "cell_type": "code",
   "execution_count": 92,
   "metadata": {},
   "outputs": [
    {
     "data": {
      "image/png": "[encoded data removed]",
      "text/plain": [
       "<Figure size 1200x300 with 4 Axes>"
      ]
     },
     "metadata": {},
     "output_type": "display_data"
    }
   ],
   "source": [
    "idx = 3\n",
    "plot_imgs(\n",
    "    suc_imgs[indices][idx], att_imgs[indices][idx], \n",
    "    suc_cams[indices][idx], att_suc_cams[idx]\n",
    ")"
   ]
  },
  {
   "attachments": {},
   "cell_type": "markdown",
   "metadata": {},
   "source": [
    "### PGD"
   ]
  },
  {
   "cell_type": "code",
   "execution_count": 93,
   "metadata": {},
   "outputs": [
    {
     "name": "stderr",
     "output_type": "stream",
     "text": [
      " 34%|███▍      | 130/382 [00:16<00:31,  8.03it/s]"
     ]
    }
   ],
   "source": [
    "att = attack.PGD(trainer.model, cuda)\n",
    "att_name = att.__class__.__name__\n",
    "att_kwargs = {'eps': 0.035}\n",
    "att_imgs, att_suc_cams, indices, metrics[att_name] \\\n",
    "    = test_advatt(att, max_iter = 10, att_kwargs = att_kwargs)\n",
    "print(tabulate(\n",
    "    list(metrics[att_name].items()), tablefmt ='orgtbl'\n",
    "))"
   ]
  },
  {
   "cell_type": "code",
   "execution_count": null,
   "metadata": {},
   "outputs": [
    {
     "data": {
      "image/png": "[encoded data removed]",
      "text/plain": [
       "<Figure size 1200x300 with 4 Axes>"
      ]
     },
     "metadata": {},
     "output_type": "display_data"
    }
   ],
   "source": [
    "idx = 3\n",
    "plot_imgs(\n",
    "    suc_imgs[indices][idx], att_imgs[indices][idx], \n",
    "    suc_cams[indices][idx], att_suc_cams[idx]\n",
    ")"
   ]
  },
  {
   "attachments": {},
   "cell_type": "markdown",
   "metadata": {},
   "source": [
    "## IterLL"
   ]
  },
  {
   "cell_type": "code",
   "execution_count": null,
   "metadata": {},
   "outputs": [
    {
     "name": "stderr",
     "output_type": "stream",
     "text": [
      "100%|██████████| 385/385 [00:50<00:00,  7.65it/s]\n"
     ]
    },
    {
     "name": "stdout",
     "output_type": "stream",
     "text": [
      "| time          | 50.3068    |\n",
      "| success_rate  |  0.74026   |\n",
      "| delta_norm    |  0.0506384 |\n",
      "| Average Incr  |  0.168421  |\n",
      "| Average Drop  |  0.579232  |\n",
      "| Insertion     |  0.259352  |\n",
      "| Deletion      |  0.119729  |\n",
      "| saliency_diff |  9.24711   |\n",
      "| shift_dist    |  6.82105   |\n"
     ]
    }
   ],
   "source": [
    "att = attack.IterLL(trainer.model, cuda)\n",
    "att_name = att.__class__.__name__\n",
    "att_kwargs = {'eps': 0.012}\n",
    "att_imgs, att_suc_cams, indices, metrics[att_name] \\\n",
    "    = test_advatt(att, max_iter = 10, att_kwargs = att_kwargs)\n",
    "print(tabulate(\n",
    "    list(metrics[att_name].items()), tablefmt ='orgtbl'\n",
    "))"
   ]
  },
  {
   "cell_type": "code",
   "execution_count": null,
   "metadata": {},
   "outputs": [
    {
     "data": {
      "image/png": "[encoded data removed]",
      "text/plain": [
       "<Figure size 1200x300 with 4 Axes>"
      ]
     },
     "metadata": {},
     "output_type": "display_data"
    }
   ],
   "source": [
    "idx = 3\n",
    "plot_imgs(\n",
    "    suc_imgs[indices][idx], att_imgs[indices][idx], \n",
    "    suc_cams[indices][idx], att_suc_cams[idx]\n",
    ")"
   ]
  },
  {
   "attachments": {},
   "cell_type": "markdown",
   "metadata": {},
   "source": [
    "### Deep Fool"
   ]
  },
  {
   "cell_type": "code",
   "execution_count": null,
   "metadata": {},
   "outputs": [
    {
     "name": "stderr",
     "output_type": "stream",
     "text": [
      "100%|██████████| 385/385 [00:41<00:00,  9.26it/s]\n"
     ]
    },
    {
     "name": "stdout",
     "output_type": "stream",
     "text": [
      "| time          | 41.5605   |\n",
      "| success_rate  |  1        |\n",
      "| delta_norm    |  0.605597 |\n",
      "| Average Incr  |  0.581818 |\n",
      "| Average Drop  |  0.105064 |\n",
      "| Insertion     |  0.328907 |\n",
      "| Deletion      |  0.308948 |\n",
      "| saliency_diff |  8.37816  |\n",
      "| shift_dist    |  5.71688  |\n"
     ]
    }
   ],
   "source": [
    "att = attack.DeepFool(trainer.model, cuda)\n",
    "att_name = att.__class__.__name__\n",
    "att_imgs, att_suc_cams, indices, metrics[att_name] \\\n",
    "    = test_advatt(att, max_iter = 10)\n",
    "print(tabulate(\n",
    "    list(metrics[att_name].items()), tablefmt ='orgtbl'\n",
    "))"
   ]
  },
  {
   "cell_type": "code",
   "execution_count": null,
   "metadata": {},
   "outputs": [
    {
     "data": {
      "image/png": "[encoded data removed]",
      "text/plain": [
       "<Figure size 1200x300 with 4 Axes>"
      ]
     },
     "metadata": {},
     "output_type": "display_data"
    }
   ],
   "source": [
    "idx = 3\n",
    "plot_imgs(\n",
    "    suc_imgs[indices][idx], att_imgs[indices][idx], \n",
    "    suc_cams[indices][idx], att_suc_cams[idx]\n",
    ")"
   ]
  },
  {
   "attachments": {},
   "cell_type": "markdown",
   "metadata": {},
   "source": [
    "### One Pixel"
   ]
  },
  {
   "cell_type": "code",
   "execution_count": null,
   "metadata": {},
   "outputs": [],
   "source": [
    "# att = attack.OnePixel(trainer.model)\n",
    "# att_name = att.__class__.__name__\n",
    "# att_imgs = torch.zeros_like(suc_imgs)\n",
    "# start = time.time()\n",
    "# with trange(len(suc_imgs)) as t:\n",
    "#     for i in t:\n",
    "#         att_imgs[i] = att(suc_imgs[i], suc_labels[i], 100, 400)\n",
    "# final = time.time()\n",
    "\n",
    "# deltas = att_imgs - suc_imgs\n",
    "# norm = torch.mean(\n",
    "#     torch.linalg.norm(deltas.reshape(len(deltas), -1), dim = 1) \\\n",
    "#         / torch.linalg.norm(suc_imgs.reshape(len(deltas), -1), dim = 1)\n",
    "# )\n",
    "\n",
    "# att_preds, att_probs = trainer.model_predict(att_imgs)\n",
    "# success_rate = (att_preds != suc_labels).sum() / len(att_preds)\n",
    "# print(f'{att_name}:\\tSuccess Rate: {success_rate * 100:4.2f}%,  Norm: {norm:.3e},  Avg Time: {(final - start)/fig_num:.3f}s')\n",
    "# metrics[att_name] = {\n",
    "#     'success_rate': success_rate * 100,\n",
    "#     'norm': norm,\n",
    "#     'time': final - start\n",
    "# }"
   ]
  },
  {
   "cell_type": "code",
   "execution_count": null,
   "metadata": {},
   "outputs": [
    {
     "data": {
      "text/html": [
       "<div>\n",
       "<style scoped>\n",
       "    .dataframe tbody tr th:only-of-type {\n",
       "        vertical-align: middle;\n",
       "    }\n",
       "\n",
       "    .dataframe tbody tr th {\n",
       "        vertical-align: top;\n",
       "    }\n",
       "\n",
       "    .dataframe thead th {\n",
       "        text-align: right;\n",
       "    }\n",
       "</style>\n",
       "<table border=\"1\" class=\"dataframe\">\n",
       "  <thead>\n",
       "    <tr style=\"text-align: right;\">\n",
       "      <th></th>\n",
       "      <th>Raw</th>\n",
       "      <th>FGSM</th>\n",
       "      <th>FGM</th>\n",
       "      <th>StepLL</th>\n",
       "      <th>IFGSM</th>\n",
       "      <th>MIFGSM</th>\n",
       "      <th>NIFGSM</th>\n",
       "      <th>PGD</th>\n",
       "      <th>IterLL</th>\n",
       "      <th>DeepFool</th>\n",
       "    </tr>\n",
       "  </thead>\n",
       "  <tbody>\n",
       "    <tr>\n",
       "      <th>time</th>\n",
       "      <td>0.000000</td>\n",
       "      <td>5.069170</td>\n",
       "      <td>5.011705</td>\n",
       "      <td>6.993171</td>\n",
       "      <td>48.779562</td>\n",
       "      <td>49.185464</td>\n",
       "      <td>49.012982</td>\n",
       "      <td>48.651197</td>\n",
       "      <td>50.306830</td>\n",
       "      <td>41.560479</td>\n",
       "    </tr>\n",
       "    <tr>\n",
       "      <th>success_rate</th>\n",
       "      <td>1.000000</td>\n",
       "      <td>0.361039</td>\n",
       "      <td>0.340260</td>\n",
       "      <td>0.350649</td>\n",
       "      <td>0.955844</td>\n",
       "      <td>0.958442</td>\n",
       "      <td>0.958442</td>\n",
       "      <td>0.976623</td>\n",
       "      <td>0.740260</td>\n",
       "      <td>1.000000</td>\n",
       "    </tr>\n",
       "    <tr>\n",
       "      <th>delta_norm</th>\n",
       "      <td>0.000000</td>\n",
       "      <td>0.065374</td>\n",
       "      <td>0.064369</td>\n",
       "      <td>0.076209</td>\n",
       "      <td>0.062017</td>\n",
       "      <td>0.063097</td>\n",
       "      <td>0.063087</td>\n",
       "      <td>0.062569</td>\n",
       "      <td>0.050638</td>\n",
       "      <td>0.605597</td>\n",
       "    </tr>\n",
       "    <tr>\n",
       "      <th>Average Incr</th>\n",
       "      <td>0.314286</td>\n",
       "      <td>0.424460</td>\n",
       "      <td>0.450382</td>\n",
       "      <td>0.703704</td>\n",
       "      <td>0.054348</td>\n",
       "      <td>0.043360</td>\n",
       "      <td>0.046070</td>\n",
       "      <td>0.034574</td>\n",
       "      <td>0.168421</td>\n",
       "      <td>0.581818</td>\n",
       "    </tr>\n",
       "    <tr>\n",
       "      <th>Average Drop</th>\n",
       "      <td>0.008357</td>\n",
       "      <td>0.062763</td>\n",
       "      <td>0.077981</td>\n",
       "      <td>0.094528</td>\n",
       "      <td>0.238655</td>\n",
       "      <td>0.238490</td>\n",
       "      <td>0.230737</td>\n",
       "      <td>0.241613</td>\n",
       "      <td>0.579232</td>\n",
       "      <td>0.105064</td>\n",
       "    </tr>\n",
       "    <tr>\n",
       "      <th>Insertion</th>\n",
       "      <td>0.583768</td>\n",
       "      <td>0.414703</td>\n",
       "      <td>0.406228</td>\n",
       "      <td>0.351684</td>\n",
       "      <td>0.498256</td>\n",
       "      <td>0.503015</td>\n",
       "      <td>0.498273</td>\n",
       "      <td>0.502008</td>\n",
       "      <td>0.259352</td>\n",
       "      <td>0.328907</td>\n",
       "    </tr>\n",
       "    <tr>\n",
       "      <th>Deletion</th>\n",
       "      <td>0.379123</td>\n",
       "      <td>0.240832</td>\n",
       "      <td>0.229635</td>\n",
       "      <td>0.209963</td>\n",
       "      <td>0.272802</td>\n",
       "      <td>0.278980</td>\n",
       "      <td>0.275656</td>\n",
       "      <td>0.267755</td>\n",
       "      <td>0.119729</td>\n",
       "      <td>0.308948</td>\n",
       "    </tr>\n",
       "    <tr>\n",
       "      <th>saliency_diff</th>\n",
       "      <td>0.000000</td>\n",
       "      <td>8.948019</td>\n",
       "      <td>8.573524</td>\n",
       "      <td>9.413216</td>\n",
       "      <td>8.262016</td>\n",
       "      <td>8.321696</td>\n",
       "      <td>8.291369</td>\n",
       "      <td>8.377432</td>\n",
       "      <td>9.247108</td>\n",
       "      <td>8.378163</td>\n",
       "    </tr>\n",
       "    <tr>\n",
       "      <th>shift_dist</th>\n",
       "      <td>0.000000</td>\n",
       "      <td>6.640288</td>\n",
       "      <td>6.389313</td>\n",
       "      <td>6.933333</td>\n",
       "      <td>6.326087</td>\n",
       "      <td>6.504065</td>\n",
       "      <td>6.195122</td>\n",
       "      <td>6.125000</td>\n",
       "      <td>6.821053</td>\n",
       "      <td>5.716883</td>\n",
       "    </tr>\n",
       "  </tbody>\n",
       "</table>\n",
       "</div>"
      ],
      "text/plain": [
       "                    Raw      FGSM       FGM    StepLL      IFGSM     MIFGSM  \\\n",
       "time           0.000000  5.069170  5.011705  6.993171  48.779562  49.185464   \n",
       "success_rate   1.000000  0.361039  0.340260  0.350649   0.955844   0.958442   \n",
       "delta_norm     0.000000  0.065374  0.064369  0.076209   0.062017   0.063097   \n",
       "Average Incr   0.314286  0.424460  0.450382  0.703704   0.054348   0.043360   \n",
       "Average Drop   0.008357  0.062763  0.077981  0.094528   0.238655   0.238490   \n",
       "Insertion      0.583768  0.414703  0.406228  0.351684   0.498256   0.503015   \n",
       "Deletion       0.379123  0.240832  0.229635  0.209963   0.272802   0.278980   \n",
       "saliency_diff  0.000000  8.948019  8.573524  9.413216   8.262016   8.321696   \n",
       "shift_dist     0.000000  6.640288  6.389313  6.933333   6.326087   6.504065   \n",
       "\n",
       "                  NIFGSM        PGD     IterLL   DeepFool  \n",
       "time           49.012982  48.651197  50.306830  41.560479  \n",
       "success_rate    0.958442   0.976623   0.740260   1.000000  \n",
       "delta_norm      0.063087   0.062569   0.050638   0.605597  \n",
       "Average Incr    0.046070   0.034574   0.168421   0.581818  \n",
       "Average Drop    0.230737   0.241613   0.579232   0.105064  \n",
       "Insertion       0.498273   0.502008   0.259352   0.328907  \n",
       "Deletion        0.275656   0.267755   0.119729   0.308948  \n",
       "saliency_diff   8.291369   8.377432   9.247108   8.378163  \n",
       "shift_dist      6.195122   6.125000   6.821053   5.716883  "
      ]
     },
     "execution_count": 76,
     "metadata": {},
     "output_type": "execute_result"
    }
   ],
   "source": [
    "metrics_df = pd.DataFrame(metrics)\n",
    "metrics_df"
   ]
  },
  {
   "cell_type": "code",
   "execution_count": null,
   "metadata": {},
   "outputs": [],
   "source": [
    "import os\n",
    "metric_pth = f'./thesis/attack_metrics/{dataset}/'\n",
    "if not os.path.exists(metric_pth):\n",
    "    os.makedirs(metric_pth)\n",
    "\n",
    "metrics_df.to_csv(metric_pth + f'Attack-{model_mode}-{dataset}-seed{seed}.csv')"
   ]
  }
 ],
 "metadata": {
  "kernelspec": {
   "display_name": "AA",
   "language": "python",
   "name": "python3"
  },
  "language_info": {
   "codemirror_mode": {
    "name": "ipython",
    "version": 3
   },
   "file_extension": ".py",
   "mimetype": "text/x-python",
   "name": "python",
   "nbconvert_exporter": "python",
   "pygments_lexer": "ipython3",
   "version": "3.10.6"
  },
  "orig_nbformat": 4
 },
 "nbformat": 4,
 "nbformat_minor": 2
}
